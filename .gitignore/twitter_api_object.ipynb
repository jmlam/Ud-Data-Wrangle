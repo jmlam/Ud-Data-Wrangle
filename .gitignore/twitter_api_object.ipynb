{
 "cells": [
  {
   "cell_type": "code",
   "execution_count": 1,
   "metadata": {},
   "outputs": [],
   "source": [
    "import tweepy\n",
    "import pandas as pd\n",
    "import numpy as np\n",
    "import json\n",
    "\n",
    "consumer_key = 'XUaovJjjaijE4iovcDNgOrPQq'\n",
    "consumer_secret = 'iwsxpzUSGf95YrEo4AeUsdJKTRQK9uswmXe3gZqscjqV6atiwO'\n",
    "\n",
    "auth = tweepy.OAuthHandler(consumer_key, consumer_secret)\n",
    "api = tweepy.API(auth, wait_on_rate_limit = True, wait_on_rate_limit_notify = True)"
   ]
  },
  {
   "cell_type": "code",
   "execution_count": 2,
   "metadata": {},
   "outputs": [],
   "source": [
    "df = pd.read_csv('twitter-archive-enhanced.csv')\n",
    "df.head();"
   ]
  },
  {
   "cell_type": "code",
   "execution_count": 62,
   "metadata": {},
   "outputs": [],
   "source": [
    "tweet = api.get_status(df.tweet_id[0])"
   ]
  },
  {
   "cell_type": "code",
   "execution_count": 63,
   "metadata": {},
   "outputs": [
    {
     "data": {
      "text/plain": [
       "7950"
      ]
     },
     "execution_count": 63,
     "metadata": {},
     "output_type": "execute_result"
    }
   ],
   "source": [
    "tweet.favorite_count\n",
    "tweet.retweet_count\n"
   ]
  },
  {
   "cell_type": "code",
   "execution_count": 65,
   "metadata": {},
   "outputs": [
    {
     "name": "stderr",
     "output_type": "stream",
     "text": [
      "Rate limit reached. Sleeping for: 598\n",
      "Rate limit reached. Sleeping for: 771\n"
     ]
    }
   ],
   "source": [
    "for i in range(df.tweet_id.shape[0]):\n",
    "    t_id = str(df.tweet_id[i])\n",
    "    try:\n",
    "        tweet = api.get_status(df.tweet_id[i])\n",
    "        with open('tweet_json.txt', 'a', encoding = 'utf-8') as outfile:\n",
    "            json.dump(tweet._json, outfile, sort_keys = True)\n",
    "            outfile.write('\\n')\n",
    "    except:\n",
    "        with open('tweet_json.txt', 'a', encoding='utf-8') as outfile:\n",
    "            outfile.write(t_id + ', None')\n",
    "            outfile.write('\\n')"
   ]
  },
  {
   "cell_type": "code",
   "execution_count": null,
   "metadata": {},
   "outputs": [],
   "source": []
  }
 ],
 "metadata": {
  "kernelspec": {
   "display_name": "Python 3",
   "language": "python",
   "name": "python3"
  },
  "language_info": {
   "codemirror_mode": {
    "name": "ipython",
    "version": 3
   },
   "file_extension": ".py",
   "mimetype": "text/x-python",
   "name": "python",
   "nbconvert_exporter": "python",
   "pygments_lexer": "ipython3",
   "version": "3.7.3"
  }
 },
 "nbformat": 4,
 "nbformat_minor": 2
}
