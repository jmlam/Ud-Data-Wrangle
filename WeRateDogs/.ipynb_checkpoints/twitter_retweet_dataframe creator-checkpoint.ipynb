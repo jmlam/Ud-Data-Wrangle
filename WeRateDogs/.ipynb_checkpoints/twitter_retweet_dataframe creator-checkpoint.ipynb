{
 "cells": [
  {
   "cell_type": "code",
   "execution_count": 2,
   "metadata": {},
   "outputs": [],
   "source": [
    "import tweepy\n",
    "import pandas as pd\n",
    "import numpy as np\n",
    "import json"
   ]
  },
  {
   "cell_type": "code",
   "execution_count": 5,
   "metadata": {},
   "outputs": [],
   "source": [
    "#loading all json objects into a list. python dict list\n",
    "data = []\n",
    "with open('tweet_json_2.txt') as json_file:\n",
    "    for line in json_file:\n",
    "        try:\n",
    "            data.append(json.loads(line))\n",
    "        except:\n",
    "            data.append(line)"
   ]
  },
  {
   "cell_type": "code",
   "execution_count": 6,
   "metadata": {},
   "outputs": [
    {
     "data": {
      "text/plain": [
       "[892420643555336193, 37168, 7950]"
      ]
     },
     "execution_count": 6,
     "metadata": {},
     "output_type": "execute_result"
    }
   ],
   "source": [
    "#testing desired items\n",
    "keys = ['id', 'favorite_count','retweet_count']\n",
    "[data[0].get(key) for key in keys]"
   ]
  },
  {
   "cell_type": "code",
   "execution_count": 9,
   "metadata": {},
   "outputs": [],
   "source": [
    "#creating empty dataframe\n",
    "df = pd.DataFrame(columns = ['id', 'favorite_count','retweet_count'])"
   ]
  },
  {
   "cell_type": "code",
   "execution_count": 11,
   "metadata": {},
   "outputs": [],
   "source": [
    "#appending json data to a pandas dataframe\n",
    "for i in data:\n",
    "    try:\n",
    "        keys = ['id', 'favorite_count','retweet_count']\n",
    "        row =[i.get(key) for key in keys]\n",
    "        df = df.append({'id': row[0], 'favorite_count': row[1], 'retweet_count': row[2]}, ignore_index=True)\n",
    "    except:\n",
    "        row = [int(i.strip(', None\\n')), 'None', 'None']\n",
    "        df = df.append({'id': row[0], 'favorite_count': row[1], 'retweet_count': row[2]}, ignore_index=True)"
   ]
  },
  {
   "cell_type": "code",
   "execution_count": 13,
   "metadata": {},
   "outputs": [
    {
     "name": "stdout",
     "output_type": "stream",
     "text": [
      "<class 'pandas.core.frame.DataFrame'>\n",
      "RangeIndex: 2356 entries, 0 to 2355\n",
      "Data columns (total 3 columns):\n",
      "id                2356 non-null object\n",
      "favorite_count    2356 non-null object\n",
      "retweet_count     2356 non-null object\n",
      "dtypes: object(3)\n",
      "memory usage: 55.3+ KB\n"
     ]
    }
   ],
   "source": [
    "df.info()"
   ]
  },
  {
   "cell_type": "code",
   "execution_count": 14,
   "metadata": {},
   "outputs": [],
   "source": [
    "#turning pandas dataframe to csv\n",
    "df.to_csv('twitter_api_data.csv', encoding='utf-8', index = False)"
   ]
  }
 ],
 "metadata": {
  "kernelspec": {
   "display_name": "Python 3",
   "language": "python",
   "name": "python3"
  },
  "language_info": {
   "codemirror_mode": {
    "name": "ipython",
    "version": 3
   },
   "file_extension": ".py",
   "mimetype": "text/x-python",
   "name": "python",
   "nbconvert_exporter": "python",
   "pygments_lexer": "ipython3",
   "version": "3.7.3"
  }
 },
 "nbformat": 4,
 "nbformat_minor": 2
}
