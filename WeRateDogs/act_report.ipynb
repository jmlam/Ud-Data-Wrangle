{
 "cells": [
  {
   "cell_type": "code",
   "execution_count": 10,
   "metadata": {},
   "outputs": [],
   "source": [
    "import pandas as pd\n",
    "import matplotlib.pyplot as plt\n",
    "%matplotlib inline"
   ]
  },
  {
   "cell_type": "code",
   "execution_count": 8,
   "metadata": {},
   "outputs": [],
   "source": [
    "twitter_archive_master = pd.read_csv('twitter_archive_master.csv')\n",
    "twitter_archive_master.timestamp = pd.to_datetime(twitter_archive_master.timestamp)"
   ]
  },
  {
   "cell_type": "markdown",
   "metadata": {},
   "source": [
    "# What Makes a Good Doggo (WeRateDogs)"
   ]
  },
  {
   "cell_type": "markdown",
   "metadata": {},
   "source": [
    "Considering the popularity of dog accounts on a variety of social media, and even more vintage styles like blogs or websites, the viability of internet famedom via canine candor is nigh indisputable. The medium of social blogging under the furry guise of a charming pup is cheap, low-committal, and generic enough to hit every denominator thinkable. Yet with such a low-bar to clear, the world of canine media hides a fierce rat-race where every account is just as likely to be in the limelight as it is to be yesterday's afterthought. As a burgeoning dog-poster, every advantage, every insight, is a valuable dagger to plunge into the starving viewer, squeezing out a like, and hooking yet another to your canine cocaine. With the help of WeRateDogs, we have devised a few insights on the most successful of this doggy dash, which we hope will turn your snoozle-poodle of an account into a bow-wow-chihuaha!"
   ]
  },
  {
   "cell_type": "markdown",
   "metadata": {},
   "source": [
    "## Much Say, Very Correct: A Discourse on Bork or Blep"
   ]
  },
  {
   "cell_type": "markdown",
   "metadata": {},
   "source": [
    "Even if you're absolutely dead certain that the pic you have is sure-fire killer, a little text goes a long way. Good text can change your one-time post into a meme machine, from just some pic of a fine-looking boy to an elegant commentary on four-legged fashion. But you can't just say anything! After all, picking the wrong words is like tearfully saving up week by week for a Christmas ham, dressing it with honey, meticulously slow roasting it, only to throw it into the road to get smashed by tomorrow's garbage truck! Preposterous! Thus, each word must be chosen with utmost care. Although we cannot give you a silver tongue or inspire your mind to be riddled with punny quips and jokes, we can provide you with a few terms for your pup that will surely rocket you to a higher level of internet fame!"
   ]
  },
  {
   "cell_type": "markdown",
   "metadata": {},
   "source": [
    "### Pupper and Doggo\n",
    "We cannot stress this enough, these two are leading terminologies for any dog-blogger by FAR. Although a glance at the below statistic may entice you to choose the word puppo or pupper, don't let yourself be fooled!\n",
    "\n",
    "#### Average Favorites in Ascending Order:  \n",
    "'puppo': 17299.823529411766\n",
    "\n",
    "'doggo': 12129.494736842105\n",
    "\n",
    "'floofer': 10953.8\n",
    "\n",
    "'pupper': 4984.996183206107\n",
    "\n",
    "#### Average Retweets in Ascending Order:  \n",
    "\n",
    "'puppo': 5456.382352941177\n",
    "\n",
    "'doggo': 4887.831578947368\n",
    "\n",
    "'floofer': 3700.1\n",
    "\n",
    "'pupper': 2073.812977099237\n",
    "\n",
    "At a glance it may seem that puppo is an excellent choice, and that floofer is certainly a better choice than pupper (which is dead last). However, such statistics are misguided interpretations that do not account for the actual frequency of each word's use! After considering the usage of each of word the results are entirely different:\n",
    "\n",
    "#### Weighted Favorites in Ascending order:  \n",
    "'pupper': 3237.170360946188\n",
    "\n",
    "'doggo': 2905.0888628979856\n",
    "\n",
    "'puppo': 1495.0464778503995\n",
    "\n",
    "'floofer': 270.46419753086417\n",
    "\n",
    "#### Weighted Retweets in Ascending order: \n",
    "\n",
    "'pupper': 1346.6983036471586\n",
    "\n",
    "'doggo': 1170.6658349577647\n",
    "\n",
    "'puppo': 471.5392156862745\n",
    "\n",
    "'floofer': 91.36049382716048\n",
    "\n",
    "Now this is a different story! Pupper, which was once at the bottom, has rocketed to the top, and doggo, which was third, has shot to second place; both by a pretty stiff margin! You see, in actuality, floofer and puppo are used quite infrequently and result in an inflated amount of favorites and retweets, since the exceptional good results drown out the meager ones. In reality, when usage is taken into consideration, pupper and doggo reign supreme with consistently better results, despite failures and offsets! Next time you have to post something, come up with a slick doggo or a cool pupper. Had you gone with the former choice, you may have as well condemned yourself to a low-tier cesspool, appealing only to niche crowds and circumstantial humor. But instead, you're armed with knowledge and can fight with the very best of them!"
   ]
  },
  {
   "cell_type": "markdown",
   "metadata": {},
   "source": [
    "# Breed for the Feed"
   ]
  },
  {
   "cell_type": "markdown",
   "metadata": {},
   "source": [
    "It's an unfortunate fact of life that while all life is created equal, some are just more suited for internet fame. When choosing the subject of your post, you'll probably not be just choosing any random dog, but your own beloved hound! However, I hate to break it to you, but unless you own one of the nine dogs below, it's gonna be an uphill battle.\n",
    "\n",
    "Golden Retriever \t\n",
    "\n",
    "Labrador Retriever \n",
    "\n",
    "Pembroke \n",
    "\n",
    "Pug\n",
    "\n",
    "Samoyed \n",
    "\n",
    "Pomeranian \n",
    "\n",
    "Chow \n",
    "\n",
    "Chihuahua\n",
    "\n",
    "French Bulldog\n",
    "\n",
    "Using a neural network to predict the breed of each dog, we have discerned nine dogs that consistently get high  marks, even after considering their overall representation and possible breed mislabeling on our part. Of these nine, the Golden Retriever and the Labrador Retriever are the most popular by a *very* healthy margin, and the Pembroke, Pug, and Samoyed are no slouches themselves! So, if you want an easy shot at fame, but don't own one of these dogs. Ditch that old dog! He can still warm your bed, but you're the one that takes the hit if he aint popular enough! But, if you're willing to brave it out and stick it with your dog because you aint afraid of the number, be our guest! Maybe you can be the next trendsetter!"
   ]
  },
  {
   "cell_type": "markdown",
   "metadata": {},
   "source": [
    "# Let Sleeping Dogs Lie, But You Can't."
   ]
  },
  {
   "cell_type": "markdown",
   "metadata": {},
   "source": [
    "Never settle. Your audience is as fickle as they come, and trends will come and go faster than shih tzu in a sled. Even if something seems unpopular now, it doesn't mean it won't gain some traction in the future! Although we gave you all these tips, they aren't diehard rules to live by. Give it time and we may be totally wrong! For instance, take a look at the success of WeRateDogs."
   ]
  },
  {
   "cell_type": "code",
   "execution_count": 12,
   "metadata": {},
   "outputs": [
    {
     "data": {
      "image/png": "[encoded data removed]",
      "text/plain": [
       "<Figure size 432x288 with 1 Axes>"
      ]
     },
     "metadata": {
      "needs_background": "light"
     },
     "output_type": "display_data"
    }
   ],
   "source": [
    "dates = matplotlib.dates.date2num(twitter_archive_master.timestamp)\n",
    "plt.plot_date(dates, (twitter_archive_master.favorite_count))\n",
    "plt.setp(plt.gca().xaxis.get_majorticklabels(), 'rotation', 90)\n",
    "plt.title('Number of Favorites over Time')\n",
    "plt.ylabel('Number of Favorites');"
   ]
  },
  {
   "cell_type": "markdown",
   "metadata": {},
   "source": [
    "As the channel gained popularity, so did the average number of favorites for most of their posts! This means that something that may not seem popular at the moment, may just not have reached the right demographic yet. Likewise, some types of content that may seem like flagships when your channel is small, may actually be a sinking ship when you're much larger. It's difficult to tell in the beginning, but don't be too quick judge, keep track of your numbers, and we assure you'll find your own cocktail of irresistable content!"
   ]
  },
  {
   "cell_type": "markdown",
   "metadata": {},
   "source": [
    "# Have a doggone good time!"
   ]
  }
 ],
 "metadata": {
  "kernelspec": {
   "display_name": "Python 3",
   "language": "python",
   "name": "python3"
  },
  "language_info": {
   "codemirror_mode": {
    "name": "ipython",
    "version": 3
   },
   "file_extension": ".py",
   "mimetype": "text/x-python",
   "name": "python",
   "nbconvert_exporter": "python",
   "pygments_lexer": "ipython3",
   "version": "3.7.3"
  }
 },
 "nbformat": 4,
 "nbformat_minor": 2
}
