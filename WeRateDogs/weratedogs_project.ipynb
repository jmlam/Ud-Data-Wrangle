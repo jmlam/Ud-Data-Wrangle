{
 "cells": [
  {
   "cell_type": "code",
   "execution_count": 101,
   "metadata": {},
   "outputs": [],
   "source": [
    "import pandas as pd\n",
    "import numpy as np\n",
    "import requests\n",
    "import os"
   ]
  },
  {
   "cell_type": "markdown",
   "metadata": {},
   "source": [
    "# Gather"
   ]
  },
  {
   "cell_type": "markdown",
   "metadata": {},
   "source": [
    "Code for downloading Udacity's Dog Prediction Data"
   ]
  },
  {
   "cell_type": "code",
   "execution_count": 12,
   "metadata": {},
   "outputs": [],
   "source": [
    "#url = 'https://d17h27t6h515a5.cloudfront.net/topher/2017/August/599fd2ad_image-predictions/image-predictions.tsv'\n",
    "#r = requests.get('https://d17h27t6h515a5.cloudfront.net/topher/2017/August/599fd2ad_image-predictions/image-predictions.tsv')"
   ]
  },
  {
   "cell_type": "code",
   "execution_count": 16,
   "metadata": {},
   "outputs": [],
   "source": [
    "# make a directory if one does not already exist\n",
    "#folder_name = 'dog_predictions'\n",
    "#if not os.path.exists(folder_name):\n",
    "    #os.makedirs(folder_name)"
   ]
  },
  {
   "cell_type": "code",
   "execution_count": 23,
   "metadata": {},
   "outputs": [],
   "source": [
    "#with open(os.path.join(folder_name, \n",
    "                           #url.split('/')[-1]), mode='wb') as file:\n",
    "             #file.write(r.content)"
   ]
  },
  {
   "cell_type": "markdown",
   "metadata": {},
   "source": [
    "Querying Retweets and Favorites for Relevant Tweets from Twitter API"
   ]
  },
  {
   "cell_type": "code",
   "execution_count": null,
   "metadata": {},
   "outputs": [],
   "source": []
  },
  {
   "cell_type": "markdown",
   "metadata": {},
   "source": [
    "Initializing All Relevant Datasets"
   ]
  },
  {
   "cell_type": "code",
   "execution_count": 25,
   "metadata": {
    "scrolled": false
   },
   "outputs": [],
   "source": [
    "twitter_archive = pd.read_csv('twitter-archive-enhanced.csv')\n",
    "twitter_archive;"
   ]
  },
  {
   "cell_type": "code",
   "execution_count": 26,
   "metadata": {},
   "outputs": [],
   "source": [
    "predicts = pd.read_csv('dog_predictions/image-predictions.tsv', sep='\\t')\n",
    "predicts;"
   ]
  },
  {
   "cell_type": "markdown",
   "metadata": {},
   "source": [
    "# Assess"
   ]
  },
  {
   "cell_type": "markdown",
   "metadata": {},
   "source": [
    "### Documented Issues\n",
    "\n",
    "`twitter_archive`\n",
    "#### Quality\n",
    "- timestamp is a string and not datetime\n",
    "- source contains irrelevant variable, variable is found in text column\n",
    "- missing values in expanded_urls\n",
    "- There are 41 instances where categorical variables are found in the text, but are not accounted for\n",
    "- name column is not always accurate, (ex: index 542 name is considered \"incredibly\" since text before contains \"incredible\"\n",
    "    -possible solution is to examine all names that are not upper-case\n",
    "\n",
    "\n",
    "#### Tidiness\n",
    "- text column contains a source variable for the tweet\n",
    "- dog \"ages/types\" (floofer, pupper etc.) should be single, categorial column\n",
    "\n",
    "`predicts`\n",
    "#### Quality\n",
    "\n",
    "\n",
    "#### Tidiness\n",
    "\n",
    "\n",
    "`retweet`\n",
    "#### Quality\n",
    "\n",
    "\n",
    "#### Tidiness\n"
   ]
  },
  {
   "cell_type": "code",
   "execution_count": 48,
   "metadata": {},
   "outputs": [],
   "source": [
    "pd.set_option('display.max_colwidth', -1)"
   ]
  },
  {
   "cell_type": "markdown",
   "metadata": {},
   "source": [
    "### twitter_archive"
   ]
  },
  {
   "cell_type": "code",
   "execution_count": 299,
   "metadata": {
    "scrolled": false
   },
   "outputs": [
    {
     "data": {
      "text/html": [
       "<div>\n",
       "<style scoped>\n",
       "    .dataframe tbody tr th:only-of-type {\n",
       "        vertical-align: middle;\n",
       "    }\n",
       "\n",
       "    .dataframe tbody tr th {\n",
       "        vertical-align: top;\n",
       "    }\n",
       "\n",
       "    .dataframe thead th {\n",
       "        text-align: right;\n",
       "    }\n",
       "</style>\n",
       "<table border=\"1\" class=\"dataframe\">\n",
       "  <thead>\n",
       "    <tr style=\"text-align: right;\">\n",
       "      <th></th>\n",
       "      <th>tweet_id</th>\n",
       "      <th>in_reply_to_status_id</th>\n",
       "      <th>in_reply_to_user_id</th>\n",
       "      <th>timestamp</th>\n",
       "      <th>source</th>\n",
       "      <th>text</th>\n",
       "      <th>retweeted_status_id</th>\n",
       "      <th>retweeted_status_user_id</th>\n",
       "      <th>retweeted_status_timestamp</th>\n",
       "      <th>expanded_urls</th>\n",
       "      <th>rating_numerator</th>\n",
       "      <th>rating_denominator</th>\n",
       "      <th>name</th>\n",
       "      <th>doggo</th>\n",
       "      <th>floofer</th>\n",
       "      <th>pupper</th>\n",
       "      <th>puppo</th>\n",
       "    </tr>\n",
       "  </thead>\n",
       "  <tbody>\n",
       "    <tr>\n",
       "      <th>542</th>\n",
       "      <td>806219024703037440</td>\n",
       "      <td>NaN</td>\n",
       "      <td>NaN</td>\n",
       "      <td>2016-12-06 19:29:28 +0000</td>\n",
       "      <td>&lt;a href=\"http://twitter.com/download/iphone\" rel=\"nofollow\"&gt;Twitter for iPhone&lt;/a&gt;</td>\n",
       "      <td>We only rate dogs. Please stop sending in non-canines like this Freudian Poof Lion. This is incredibly frustrating... 11/10 https://t.co/IZidSrBvhi</td>\n",
       "      <td>NaN</td>\n",
       "      <td>NaN</td>\n",
       "      <td>NaN</td>\n",
       "      <td>https://twitter.com/dog_rates/status/806219024703037440/photo/1</td>\n",
       "      <td>11</td>\n",
       "      <td>10</td>\n",
       "      <td>incredibly</td>\n",
       "      <td>None</td>\n",
       "      <td>None</td>\n",
       "      <td>None</td>\n",
       "      <td>None</td>\n",
       "    </tr>\n",
       "    <tr>\n",
       "      <th>117</th>\n",
       "      <td>870063196459192321</td>\n",
       "      <td>NaN</td>\n",
       "      <td>NaN</td>\n",
       "      <td>2017-05-31 23:43:25 +0000</td>\n",
       "      <td>&lt;a href=\"http://twitter.com/download/iphone\" rel=\"nofollow\"&gt;Twitter for iPhone&lt;/a&gt;</td>\n",
       "      <td>Meet Clifford. He's quite large. Also red. Good w kids. Somehow never steps on them. Massive poops very inconvenient. Still 14/10 would ride https://t.co/apVOyDgOju</td>\n",
       "      <td>NaN</td>\n",
       "      <td>NaN</td>\n",
       "      <td>NaN</td>\n",
       "      <td>https://twitter.com/dog_rates/status/870063196459192321/photo/1,https://twitter.com/dog_rates/status/870063196459192321/photo/1</td>\n",
       "      <td>14</td>\n",
       "      <td>10</td>\n",
       "      <td>Clifford</td>\n",
       "      <td>None</td>\n",
       "      <td>None</td>\n",
       "      <td>None</td>\n",
       "      <td>None</td>\n",
       "    </tr>\n",
       "    <tr>\n",
       "      <th>1632</th>\n",
       "      <td>684460069371654144</td>\n",
       "      <td>NaN</td>\n",
       "      <td>NaN</td>\n",
       "      <td>2016-01-05 19:42:51 +0000</td>\n",
       "      <td>&lt;a href=\"http://twitter.com/download/iphone\" rel=\"nofollow\"&gt;Twitter for iPhone&lt;/a&gt;</td>\n",
       "      <td>This is Jeph. He's a Western Sagittarius Dookmarriot. Frightened by leaf. Caught him off guard. 10/10 calm down Jeph https://t.co/bicyOV6lju</td>\n",
       "      <td>NaN</td>\n",
       "      <td>NaN</td>\n",
       "      <td>NaN</td>\n",
       "      <td>https://twitter.com/dog_rates/status/684460069371654144/photo/1</td>\n",
       "      <td>10</td>\n",
       "      <td>10</td>\n",
       "      <td>Jeph</td>\n",
       "      <td>None</td>\n",
       "      <td>None</td>\n",
       "      <td>None</td>\n",
       "      <td>None</td>\n",
       "    </tr>\n",
       "    <tr>\n",
       "      <th>102</th>\n",
       "      <td>872620804844003328</td>\n",
       "      <td>NaN</td>\n",
       "      <td>NaN</td>\n",
       "      <td>2017-06-08 01:06:27 +0000</td>\n",
       "      <td>&lt;a href=\"http://twitter.com/download/iphone\" rel=\"nofollow\"&gt;Twitter for iPhone&lt;/a&gt;</td>\n",
       "      <td>This is Monkey. She's supporting owners everywhere with her fancy #PrideMonth bandana. 13/10 love is love is love... https://t.co/lUcpnZDPz9</td>\n",
       "      <td>NaN</td>\n",
       "      <td>NaN</td>\n",
       "      <td>NaN</td>\n",
       "      <td>https://twitter.com/dog_rates/status/872620804844003328/photo/1</td>\n",
       "      <td>13</td>\n",
       "      <td>10</td>\n",
       "      <td>Monkey</td>\n",
       "      <td>None</td>\n",
       "      <td>None</td>\n",
       "      <td>None</td>\n",
       "      <td>None</td>\n",
       "    </tr>\n",
       "    <tr>\n",
       "      <th>416</th>\n",
       "      <td>822610361945911296</td>\n",
       "      <td>NaN</td>\n",
       "      <td>NaN</td>\n",
       "      <td>2017-01-21 01:02:48 +0000</td>\n",
       "      <td>&lt;a href=\"http://twitter.com/download/iphone\" rel=\"nofollow\"&gt;Twitter for iPhone&lt;/a&gt;</td>\n",
       "      <td>Please stop sending in non-canines like this Very Pettable Dozing Bath Tortoise. We only rate dogs. Only send dogs... 12/10 https://t.co/mcagPeENIh</td>\n",
       "      <td>NaN</td>\n",
       "      <td>NaN</td>\n",
       "      <td>NaN</td>\n",
       "      <td>https://twitter.com/dog_rates/status/822610361945911296/photo/1</td>\n",
       "      <td>12</td>\n",
       "      <td>10</td>\n",
       "      <td>None</td>\n",
       "      <td>None</td>\n",
       "      <td>None</td>\n",
       "      <td>None</td>\n",
       "      <td>None</td>\n",
       "    </tr>\n",
       "  </tbody>\n",
       "</table>\n",
       "</div>"
      ],
      "text/plain": [
       "                tweet_id  in_reply_to_status_id  in_reply_to_user_id  \\\n",
       "542   806219024703037440 NaN                    NaN                    \n",
       "117   870063196459192321 NaN                    NaN                    \n",
       "1632  684460069371654144 NaN                    NaN                    \n",
       "102   872620804844003328 NaN                    NaN                    \n",
       "416   822610361945911296 NaN                    NaN                    \n",
       "\n",
       "                      timestamp  \\\n",
       "542   2016-12-06 19:29:28 +0000   \n",
       "117   2017-05-31 23:43:25 +0000   \n",
       "1632  2016-01-05 19:42:51 +0000   \n",
       "102   2017-06-08 01:06:27 +0000   \n",
       "416   2017-01-21 01:02:48 +0000   \n",
       "\n",
       "                                                                                  source  \\\n",
       "542   <a href=\"http://twitter.com/download/iphone\" rel=\"nofollow\">Twitter for iPhone</a>   \n",
       "117   <a href=\"http://twitter.com/download/iphone\" rel=\"nofollow\">Twitter for iPhone</a>   \n",
       "1632  <a href=\"http://twitter.com/download/iphone\" rel=\"nofollow\">Twitter for iPhone</a>   \n",
       "102   <a href=\"http://twitter.com/download/iphone\" rel=\"nofollow\">Twitter for iPhone</a>   \n",
       "416   <a href=\"http://twitter.com/download/iphone\" rel=\"nofollow\">Twitter for iPhone</a>   \n",
       "\n",
       "                                                                                                                                                                      text  \\\n",
       "542   We only rate dogs. Please stop sending in non-canines like this Freudian Poof Lion. This is incredibly frustrating... 11/10 https://t.co/IZidSrBvhi                    \n",
       "117   Meet Clifford. He's quite large. Also red. Good w kids. Somehow never steps on them. Massive poops very inconvenient. Still 14/10 would ride https://t.co/apVOyDgOju   \n",
       "1632  This is Jeph. He's a Western Sagittarius Dookmarriot. Frightened by leaf. Caught him off guard. 10/10 calm down Jeph https://t.co/bicyOV6lju                           \n",
       "102   This is Monkey. She's supporting owners everywhere with her fancy #PrideMonth bandana. 13/10 love is love is love... https://t.co/lUcpnZDPz9                           \n",
       "416   Please stop sending in non-canines like this Very Pettable Dozing Bath Tortoise. We only rate dogs. Only send dogs... 12/10 https://t.co/mcagPeENIh                    \n",
       "\n",
       "      retweeted_status_id  retweeted_status_user_id  \\\n",
       "542  NaN                  NaN                         \n",
       "117  NaN                  NaN                         \n",
       "1632 NaN                  NaN                         \n",
       "102  NaN                  NaN                         \n",
       "416  NaN                  NaN                         \n",
       "\n",
       "     retweeted_status_timestamp  \\\n",
       "542   NaN                         \n",
       "117   NaN                         \n",
       "1632  NaN                         \n",
       "102   NaN                         \n",
       "416   NaN                         \n",
       "\n",
       "                                                                                                                        expanded_urls  \\\n",
       "542   https://twitter.com/dog_rates/status/806219024703037440/photo/1                                                                   \n",
       "117   https://twitter.com/dog_rates/status/870063196459192321/photo/1,https://twitter.com/dog_rates/status/870063196459192321/photo/1   \n",
       "1632  https://twitter.com/dog_rates/status/684460069371654144/photo/1                                                                   \n",
       "102   https://twitter.com/dog_rates/status/872620804844003328/photo/1                                                                   \n",
       "416   https://twitter.com/dog_rates/status/822610361945911296/photo/1                                                                   \n",
       "\n",
       "      rating_numerator  rating_denominator        name doggo floofer pupper  \\\n",
       "542   11                10                  incredibly  None  None    None    \n",
       "117   14                10                  Clifford    None  None    None    \n",
       "1632  10                10                  Jeph        None  None    None    \n",
       "102   13                10                  Monkey      None  None    None    \n",
       "416   12                10                  None        None  None    None    \n",
       "\n",
       "     puppo  \n",
       "542   None  \n",
       "117   None  \n",
       "1632  None  \n",
       "102   None  \n",
       "416   None  "
      ]
     },
     "execution_count": 299,
     "metadata": {},
     "output_type": "execute_result"
    }
   ],
   "source": [
    "#to be used for visual assessments. Supressed to save space.\n",
    "twitter_archive.sample(5)"
   ]
  },
  {
   "cell_type": "code",
   "execution_count": 59,
   "metadata": {},
   "outputs": [
    {
     "data": {
      "text/plain": [
       "0"
      ]
     },
     "execution_count": 59,
     "metadata": {},
     "output_type": "execute_result"
    }
   ],
   "source": [
    "#no duplicated values\n",
    "list(twitter_archive.duplicated()).count(True)"
   ]
  },
  {
   "cell_type": "code",
   "execution_count": 208,
   "metadata": {
    "scrolled": true
   },
   "outputs": [],
   "source": [
    "#to be used for visual assessments. commented out to save space\n",
    "#twitter_archive.info();"
   ]
  },
  {
   "cell_type": "code",
   "execution_count": 209,
   "metadata": {
    "scrolled": false
   },
   "outputs": [
    {
     "data": {
      "text/html": [
       "<div>\n",
       "<style scoped>\n",
       "    .dataframe tbody tr th:only-of-type {\n",
       "        vertical-align: middle;\n",
       "    }\n",
       "\n",
       "    .dataframe tbody tr th {\n",
       "        vertical-align: top;\n",
       "    }\n",
       "\n",
       "    .dataframe thead th {\n",
       "        text-align: right;\n",
       "    }\n",
       "</style>\n",
       "<table border=\"1\" class=\"dataframe\">\n",
       "  <thead>\n",
       "    <tr style=\"text-align: right;\">\n",
       "      <th></th>\n",
       "      <th>tweet_id</th>\n",
       "      <th>in_reply_to_status_id</th>\n",
       "      <th>in_reply_to_user_id</th>\n",
       "      <th>retweeted_status_id</th>\n",
       "      <th>retweeted_status_user_id</th>\n",
       "      <th>rating_numerator</th>\n",
       "      <th>rating_denominator</th>\n",
       "    </tr>\n",
       "  </thead>\n",
       "  <tbody>\n",
       "    <tr>\n",
       "      <th>count</th>\n",
       "      <td>2.356000e+03</td>\n",
       "      <td>7.800000e+01</td>\n",
       "      <td>7.800000e+01</td>\n",
       "      <td>1.810000e+02</td>\n",
       "      <td>1.810000e+02</td>\n",
       "      <td>2356.000000</td>\n",
       "      <td>2356.000000</td>\n",
       "    </tr>\n",
       "    <tr>\n",
       "      <th>mean</th>\n",
       "      <td>7.427716e+17</td>\n",
       "      <td>7.455079e+17</td>\n",
       "      <td>2.014171e+16</td>\n",
       "      <td>7.720400e+17</td>\n",
       "      <td>1.241698e+16</td>\n",
       "      <td>13.126486</td>\n",
       "      <td>10.455433</td>\n",
       "    </tr>\n",
       "    <tr>\n",
       "      <th>std</th>\n",
       "      <td>6.856705e+16</td>\n",
       "      <td>7.582492e+16</td>\n",
       "      <td>1.252797e+17</td>\n",
       "      <td>6.236928e+16</td>\n",
       "      <td>9.599254e+16</td>\n",
       "      <td>45.876648</td>\n",
       "      <td>6.745237</td>\n",
       "    </tr>\n",
       "    <tr>\n",
       "      <th>min</th>\n",
       "      <td>6.660209e+17</td>\n",
       "      <td>6.658147e+17</td>\n",
       "      <td>1.185634e+07</td>\n",
       "      <td>6.661041e+17</td>\n",
       "      <td>7.832140e+05</td>\n",
       "      <td>0.000000</td>\n",
       "      <td>0.000000</td>\n",
       "    </tr>\n",
       "    <tr>\n",
       "      <th>25%</th>\n",
       "      <td>6.783989e+17</td>\n",
       "      <td>6.757419e+17</td>\n",
       "      <td>3.086374e+08</td>\n",
       "      <td>7.186315e+17</td>\n",
       "      <td>4.196984e+09</td>\n",
       "      <td>10.000000</td>\n",
       "      <td>10.000000</td>\n",
       "    </tr>\n",
       "    <tr>\n",
       "      <th>50%</th>\n",
       "      <td>7.196279e+17</td>\n",
       "      <td>7.038708e+17</td>\n",
       "      <td>4.196984e+09</td>\n",
       "      <td>7.804657e+17</td>\n",
       "      <td>4.196984e+09</td>\n",
       "      <td>11.000000</td>\n",
       "      <td>10.000000</td>\n",
       "    </tr>\n",
       "    <tr>\n",
       "      <th>75%</th>\n",
       "      <td>7.993373e+17</td>\n",
       "      <td>8.257804e+17</td>\n",
       "      <td>4.196984e+09</td>\n",
       "      <td>8.203146e+17</td>\n",
       "      <td>4.196984e+09</td>\n",
       "      <td>12.000000</td>\n",
       "      <td>10.000000</td>\n",
       "    </tr>\n",
       "    <tr>\n",
       "      <th>max</th>\n",
       "      <td>8.924206e+17</td>\n",
       "      <td>8.862664e+17</td>\n",
       "      <td>8.405479e+17</td>\n",
       "      <td>8.874740e+17</td>\n",
       "      <td>7.874618e+17</td>\n",
       "      <td>1776.000000</td>\n",
       "      <td>170.000000</td>\n",
       "    </tr>\n",
       "  </tbody>\n",
       "</table>\n",
       "</div>"
      ],
      "text/plain": [
       "           tweet_id  in_reply_to_status_id  in_reply_to_user_id  \\\n",
       "count  2.356000e+03  7.800000e+01           7.800000e+01          \n",
       "mean   7.427716e+17  7.455079e+17           2.014171e+16          \n",
       "std    6.856705e+16  7.582492e+16           1.252797e+17          \n",
       "min    6.660209e+17  6.658147e+17           1.185634e+07          \n",
       "25%    6.783989e+17  6.757419e+17           3.086374e+08          \n",
       "50%    7.196279e+17  7.038708e+17           4.196984e+09          \n",
       "75%    7.993373e+17  8.257804e+17           4.196984e+09          \n",
       "max    8.924206e+17  8.862664e+17           8.405479e+17          \n",
       "\n",
       "       retweeted_status_id  retweeted_status_user_id  rating_numerator  \\\n",
       "count  1.810000e+02         1.810000e+02              2356.000000        \n",
       "mean   7.720400e+17         1.241698e+16              13.126486          \n",
       "std    6.236928e+16         9.599254e+16              45.876648          \n",
       "min    6.661041e+17         7.832140e+05              0.000000           \n",
       "25%    7.186315e+17         4.196984e+09              10.000000          \n",
       "50%    7.804657e+17         4.196984e+09              11.000000          \n",
       "75%    8.203146e+17         4.196984e+09              12.000000          \n",
       "max    8.874740e+17         7.874618e+17              1776.000000        \n",
       "\n",
       "       rating_denominator  \n",
       "count  2356.000000         \n",
       "mean   10.455433           \n",
       "std    6.745237            \n",
       "min    0.000000            \n",
       "25%    10.000000           \n",
       "50%    10.000000           \n",
       "75%    10.000000           \n",
       "max    170.000000          "
      ]
     },
     "execution_count": 209,
     "metadata": {},
     "output_type": "execute_result"
    }
   ],
   "source": [
    "#investigating max values for numerator/denominator\n",
    "twitter_archive.describe()"
   ]
  },
  {
   "cell_type": "code",
   "execution_count": 315,
   "metadata": {},
   "outputs": [],
   "source": [
    "def category_accuracy(df, columns_list, known_values_list):\n",
    "    '''category_accuracy parses through the texts column of a dataframe and checks if the information matches\n",
    "    the values of the categorical columns, GIVEN that the text is used as the categorical variable source\n",
    "    and records are single, known values.\n",
    "    Restrictions: text column must be called \"text\".\n",
    "    Returns: category_accuracy returns the index of rows where the categorical values do not match the text'''\n",
    "    offending_rows = []\n",
    "    # matching text with other columns\n",
    "    for index, row in df.iterrows():\n",
    "        match = []\n",
    "        secondary = [row[column] for column in columns_list]\n",
    "        source = row.text.split()\n",
    "        for word in source:\n",
    "            match += [word for value in known_values_list if value in word and word != 'None']\n",
    "    #checking accuracy\n",
    "        if len(match)> 0 and all(current == 'None' for current in secondary) == True:\n",
    "            offending_rows.append(index)\n",
    "    return offending_rows"
   ]
  },
  {
   "cell_type": "code",
   "execution_count": null,
   "metadata": {},
   "outputs": [],
   "source": []
  },
  {
   "cell_type": "markdown",
   "metadata": {},
   "source": [
    "### Parsing Text for Accuracy"
   ]
  },
  {
   "cell_type": "code",
   "execution_count": 316,
   "metadata": {
    "scrolled": true
   },
   "outputs": [
    {
     "name": "stdout",
     "output_type": "stream",
     "text": [
      "The number of instances where doggo, floofer, pupper, and puppo is found in the text, but does not have a value is:  41\n"
     ]
    }
   ],
   "source": [
    "#category_accuracy(df, columns, known values list)\n",
    "offending_rows = category_accuracy(twitter_archive, ['doggo', 'floofer', 'pupper', 'puppo'], ['doggo', 'floofer', 'pupper', 'puppo'])\n",
    "print('The number of instances where doggo, floofer, pupper, and puppo is found in the text, but does not have a value is: ', len(offending_rows))"
   ]
  },
  {
   "cell_type": "code",
   "execution_count": 318,
   "metadata": {
    "scrolled": false
   },
   "outputs": [],
   "source": [
    "#investigate offending rows. Rows had issues. Code has been commented out to save space.\n",
    "#for i in offending_rows:\n",
    "    #display(twitter_archive[twitter_archive.index == i])"
   ]
  },
  {
   "cell_type": "code",
   "execution_count": 313,
   "metadata": {},
   "outputs": [
    {
     "data": {
      "text/plain": [
       "True"
      ]
     },
     "execution_count": 313,
     "metadata": {},
     "output_type": "execute_result"
    }
   ],
   "source": []
  },
  {
   "cell_type": "markdown",
   "metadata": {},
   "source": [
    "### Investigating Max and Min Values"
   ]
  },
  {
   "cell_type": "code",
   "execution_count": 56,
   "metadata": {
    "scrolled": true
   },
   "outputs": [],
   "source": [
    "twitter_archive.rating_numerator.value_counts();"
   ]
  },
  {
   "cell_type": "code",
   "execution_count": 50,
   "metadata": {
    "scrolled": true
   },
   "outputs": [
    {
     "data": {
      "text/plain": [
       "979    This is Atticus. He's quite simply America af. 1776/10 https://t.co/GRXwMxLBkh\n",
       "Name: text, dtype: object"
      ]
     },
     "execution_count": 50,
     "metadata": {},
     "output_type": "execute_result"
    }
   ],
   "source": [
    "#non-issue. 1776 is the year the DoI was signed\n",
    "twitter_archive[twitter_archive.rating_numerator == 1776]['text']"
   ]
  },
  {
   "cell_type": "code",
   "execution_count": 55,
   "metadata": {
    "scrolled": true
   },
   "outputs": [],
   "source": [
    "twitter_archive.rating_denominator.value_counts();"
   ]
  },
  {
   "cell_type": "code",
   "execution_count": 49,
   "metadata": {},
   "outputs": [
    {
     "data": {
      "text/plain": [
       "1120    https://twitter.com/dog_rates/status/731156023742988288/photo/1\n",
       "Name: expanded_urls, dtype: object"
      ]
     },
     "execution_count": 49,
     "metadata": {},
     "output_type": "execute_result"
    }
   ],
   "source": [
    "#non-issue. 170 matches the actual post\n",
    "twitter_archive[twitter_archive.rating_denominator == 170]['expanded_urls']"
   ]
  },
  {
   "cell_type": "markdown",
   "metadata": {},
   "source": [
    "## predicts"
   ]
  },
  {
   "cell_type": "markdown",
   "metadata": {},
   "source": [
    "# Clean"
   ]
  },
  {
   "cell_type": "markdown",
   "metadata": {},
   "source": [
    "Creating Cleaning Copies"
   ]
  },
  {
   "cell_type": "code",
   "execution_count": 27,
   "metadata": {},
   "outputs": [],
   "source": [
    "twitter_archive_clean = twitter_archive.copy()\n",
    "predicts_clean = predicts.copy()"
   ]
  },
  {
   "cell_type": "markdown",
   "metadata": {},
   "source": [
    "# Analysis"
   ]
  },
  {
   "cell_type": "markdown",
   "metadata": {},
   "source": [
    "(jotting ideas down early so as to not forget)\n",
    "### Motivating Questions:\n",
    "- Do higher \"ratings\" correlate with higher number of retweets? (Must define ratings. Std might be useful)\n",
    "- Investigate which is more \"popular\": Cute or Funny. Cute defined by Kindchenschema and funny defined by Benign Violation.\n",
    "- Within the categories of cuteness and funniness, are more extreme examples more popular? Measured by retweets.\n",
    "- What are observed characteristics of the top 3 most popular tweets? Is there a theme?"
   ]
  },
  {
   "cell_type": "markdown",
   "metadata": {},
   "source": [
    "Although the ratings individually do not seem to make much sense due to the numerator exceeding the denominator, perhaps the ratings can be better understood as a decimal score, with higher scores indicating higher approval."
   ]
  },
  {
   "cell_type": "code",
   "execution_count": null,
   "metadata": {},
   "outputs": [],
   "source": []
  }
 ],
 "metadata": {
  "kernelspec": {
   "display_name": "Python 3",
   "language": "python",
   "name": "python3"
  },
  "language_info": {
   "codemirror_mode": {
    "name": "ipython",
    "version": 3
   },
   "file_extension": ".py",
   "mimetype": "text/x-python",
   "name": "python",
   "nbconvert_exporter": "python",
   "pygments_lexer": "ipython3",
   "version": "3.7.3"
  }
 },
 "nbformat": 4,
 "nbformat_minor": 2
}
