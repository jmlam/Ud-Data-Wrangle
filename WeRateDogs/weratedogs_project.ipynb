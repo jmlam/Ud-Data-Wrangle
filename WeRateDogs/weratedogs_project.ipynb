{
 "cells": [
  {
   "cell_type": "code",
   "execution_count": 33,
   "metadata": {},
   "outputs": [],
   "source": [
    "import pandas as pd\n",
    "import numpy as np\n",
    "import requests\n",
    "import os\n",
    "from random import sample\n",
    "import re"
   ]
  },
  {
   "cell_type": "markdown",
   "metadata": {},
   "source": [
    "# Gather"
   ]
  },
  {
   "cell_type": "markdown",
   "metadata": {},
   "source": [
    "Code for downloading Udacity's Dog Prediction Data"
   ]
  },
  {
   "cell_type": "code",
   "execution_count": 12,
   "metadata": {},
   "outputs": [],
   "source": [
    "#url = 'https://d17h27t6h515a5.cloudfront.net/topher/2017/August/599fd2ad_image-predictions/image-predictions.tsv'\n",
    "#r = requests.get('https://d17h27t6h515a5.cloudfront.net/topher/2017/August/599fd2ad_image-predictions/image-predictions.tsv')"
   ]
  },
  {
   "cell_type": "code",
   "execution_count": 16,
   "metadata": {},
   "outputs": [],
   "source": [
    "# make a directory if one does not already exist\n",
    "#folder_name = 'dog_predictions'\n",
    "#if not os.path.exists(folder_name):\n",
    "    #os.makedirs(folder_name)"
   ]
  },
  {
   "cell_type": "code",
   "execution_count": 23,
   "metadata": {},
   "outputs": [],
   "source": [
    "#with open(os.path.join(folder_name, \n",
    "                           #url.split('/')[-1]), mode='wb') as file:\n",
    "             #file.write(r.content)"
   ]
  },
  {
   "cell_type": "markdown",
   "metadata": {},
   "source": [
    "Initializing All Relevant Datasets"
   ]
  },
  {
   "cell_type": "code",
   "execution_count": 4,
   "metadata": {
    "scrolled": false
   },
   "outputs": [],
   "source": [
    "twitter_archive = pd.read_csv('twitter-archive-enhanced.csv')\n",
    "twitter_archive;"
   ]
  },
  {
   "cell_type": "code",
   "execution_count": 5,
   "metadata": {},
   "outputs": [],
   "source": [
    "predicts = pd.read_csv('dog_predictions/image-predictions.tsv', sep='\\t')\n",
    "predicts;"
   ]
  },
  {
   "cell_type": "code",
   "execution_count": 6,
   "metadata": {},
   "outputs": [],
   "source": [
    "twitter_api = pd.read_csv('twitter_api_data.csv')\n",
    "twitter_api;"
   ]
  },
  {
   "cell_type": "markdown",
   "metadata": {},
   "source": [
    "# Assess"
   ]
  },
  {
   "cell_type": "markdown",
   "metadata": {},
   "source": [
    "### Documented Issues\n",
    "\n",
    "`twitter_archive`\n",
    "#### Quality\n",
    "- timestamp is a string and not datetime\n",
    "- text column irrelevant material\n",
    "- missing values in expanded_urls\n",
    "- There are 42 instances where categorical variables are found in the text, but are not accurately accounted for in the categorical columns\n",
    "- There are 109 instances where the name column is not accurate, (ex: index 542 name is considered \"incredibly\" since text before contains \"incredible\"), and an incorrect name is in place.\n",
    "    - I recognize that it is an oversight that I cannot test whether or not a name is missed because I do not yet have knowledge of a language processing library.\n",
    "- Missing rows in \"in_reply_to_status_id\" \"in_reply_to_user_id\" \"retweeted_status_id\" \"retweeted_status_user_id\" \"retweeted_status_timestamp\"\n",
    "- Ratings may contain floats. Texts needs to be checked again\n",
    "- change id to string\n",
    "\n",
    "#### Tidiness\n",
    "- text column contains a source variable for the tweet\n",
    "- dog \"ages/types\" (floofer, pupper etc.) should be single, categorial column\n",
    "\n",
    "`predicts`\n",
    "#### Quality\n",
    "- prediction dog breeds have inconsistent casing\n",
    "- column titles should be be full names\n",
    "- change id to string\n",
    "- extract predictions for images where predictions are both dogs and above 70% confidence\n",
    "    - If our confidence level is too low, then our statements become less meaningful. However, because I am not sure how to test the accuracy of the predictions, I will choose a lowish confidence level since I am aware that many of the pictures will contain dogs.\n",
    "\n",
    "#### Tidiness\n",
    " \n",
    "\n",
    "`twitter_api`\n",
    "#### Quality\n",
    "- change id to string (should have done this when extracting)\n",
    "\n",
    "#### Tidiness\n",
    "- tables need to be reorganized\n",
    "    - 1 for souce metadata (urls"
   ]
  },
  {
   "cell_type": "code",
   "execution_count": 35,
   "metadata": {},
   "outputs": [],
   "source": [
    "pd.set_option('display.max_colwidth', -1)"
   ]
  },
  {
   "cell_type": "markdown",
   "metadata": {},
   "source": [
    "### twitter_archive"
   ]
  },
  {
   "cell_type": "markdown",
   "metadata": {},
   "source": [
    "#### Visual Assessment"
   ]
  },
  {
   "cell_type": "code",
   "execution_count": 11,
   "metadata": {
    "scrolled": true
   },
   "outputs": [],
   "source": [
    "#to be used for visual assessments. Supressed to save space.\n",
    "twitter_archive.sample(5);"
   ]
  },
  {
   "cell_type": "code",
   "execution_count": 7,
   "metadata": {},
   "outputs": [
    {
     "data": {
      "text/plain": [
       "array(['<a href=\"http://twitter.com/download/iphone\" rel=\"nofollow\">Twitter for iPhone</a>',\n",
       "       '<a href=\"http://twitter.com\" rel=\"nofollow\">Twitter Web Client</a>',\n",
       "       '<a href=\"http://vine.co\" rel=\"nofollow\">Vine - Make a Scene</a>',\n",
       "       '<a href=\"https://about.twitter.com/products/tweetdeck\" rel=\"nofollow\">TweetDeck</a>'],\n",
       "      dtype=object)"
      ]
     },
     "execution_count": 7,
     "metadata": {},
     "output_type": "execute_result"
    }
   ],
   "source": [
    "twitter_archive.source.unique()"
   ]
  },
  {
   "cell_type": "code",
   "execution_count": 59,
   "metadata": {},
   "outputs": [
    {
     "data": {
      "text/plain": [
       "0"
      ]
     },
     "execution_count": 59,
     "metadata": {},
     "output_type": "execute_result"
    }
   ],
   "source": [
    "#no duplicated values\n",
    "list(twitter_archive.duplicated()).count(True)"
   ]
  },
  {
   "cell_type": "code",
   "execution_count": 20,
   "metadata": {
    "scrolled": true
   },
   "outputs": [
    {
     "name": "stdout",
     "output_type": "stream",
     "text": [
      "<class 'pandas.core.frame.DataFrame'>\n",
      "RangeIndex: 2356 entries, 0 to 2355\n",
      "Data columns (total 17 columns):\n",
      "tweet_id                      2356 non-null int64\n",
      "in_reply_to_status_id         78 non-null float64\n",
      "in_reply_to_user_id           78 non-null float64\n",
      "timestamp                     2356 non-null object\n",
      "source                        2356 non-null object\n",
      "text                          2356 non-null object\n",
      "retweeted_status_id           181 non-null float64\n",
      "retweeted_status_user_id      181 non-null float64\n",
      "retweeted_status_timestamp    181 non-null object\n",
      "expanded_urls                 2297 non-null object\n",
      "rating_numerator              2356 non-null int64\n",
      "rating_denominator            2356 non-null int64\n",
      "name                          2356 non-null object\n",
      "doggo                         2356 non-null object\n",
      "floofer                       2356 non-null object\n",
      "pupper                        2356 non-null object\n",
      "puppo                         2356 non-null object\n",
      "dtypes: float64(4), int64(3), object(10)\n",
      "memory usage: 313.0+ KB\n"
     ]
    }
   ],
   "source": [
    "#to be used for visual assessments. commented out to save space\n",
    "twitter_archive.info()"
   ]
  },
  {
   "cell_type": "code",
   "execution_count": 14,
   "metadata": {
    "scrolled": true
   },
   "outputs": [],
   "source": [
    "#investigating max values for numerator/denominator\n",
    "twitter_archive.describe();"
   ]
  },
  {
   "cell_type": "markdown",
   "metadata": {},
   "source": [
    "#### Function(s) used for progrmattic assessment"
   ]
  },
  {
   "cell_type": "code",
   "execution_count": 15,
   "metadata": {},
   "outputs": [],
   "source": [
    "def category_accuracy(df, columns_list):\n",
    "    '''category_accuracy parses through the texts column of a dataframe and checks if the information matches\n",
    "    the values of the categorical columns, GIVEN that the text is used as the categorical variable source\n",
    "    and categorical column values are the same as column header.\n",
    "    Restrictions: text column must be called \"text\".\n",
    "    Returns: category_accuracy returns the index of rows where the categorical values do not match the text'''\n",
    "    offending_rows = []\n",
    "    # matching text with other columns\n",
    "    for index, row in df.iterrows():\n",
    "        match = []\n",
    "        secondary = [row[column] for column in columns_list]\n",
    "        source = row.text.split()\n",
    "        for word in source:\n",
    "            match += [value for value in columns_list if value in word and pd.notnull(word) and word != 'None']\n",
    "    #checking for accuracy\n",
    "        if len(match)> 0:\n",
    "            test = []\n",
    "            for current in secondary:\n",
    "                for i in match:\n",
    "                    test.append(i == current)\n",
    "            # this loops checks to see if the row value is the same as the matched value\n",
    "            if test.count(True) < len(match):\n",
    "                # if there are less correct than actual matches, then there is an inaccurate column.\n",
    "                offending_rows.append(index)\n",
    "    return offending_rows"
   ]
  },
  {
   "cell_type": "markdown",
   "metadata": {},
   "source": [
    "### Parsing Text for Accuracy"
   ]
  },
  {
   "cell_type": "code",
   "execution_count": 16,
   "metadata": {
    "scrolled": true
   },
   "outputs": [
    {
     "name": "stdout",
     "output_type": "stream",
     "text": [
      "The number of instances where doggo, floofer, pupper, and puppo is found in the text, but does not have the correct value is:  42\n"
     ]
    }
   ],
   "source": [
    "#category_accuracy(df, columns)\n",
    "offending_categorical_rows = category_accuracy(twitter_archive, ['doggo', 'floofer', 'pupper', 'puppo'])\n",
    "print('The number of instances where doggo, floofer, pupper, and puppo is found in the text, but does not have the correct value is: ', len(offending_categorical_rows))"
   ]
  },
  {
   "cell_type": "code",
   "execution_count": 17,
   "metadata": {},
   "outputs": [
    {
     "name": "stdout",
     "output_type": "stream",
     "text": [
      "The list of offending rows:  [54, 83, 85, 106, 134, 172, 228, 268, 274, 296, 302, 475, 477, 545, 798, 934, 946, 987, 993, 1027, 1093, 1120, 1220, 1228, 1254, 1265, 1351, 1516, 1634, 1635, 1636, 1643, 1710, 1712, 1743, 1826, 1843, 1847, 1862, 1900, 1928, 2141]\n"
     ]
    }
   ],
   "source": [
    "print('The list of offending rows: ', offending_categorical_rows)"
   ]
  },
  {
   "cell_type": "code",
   "execution_count": 18,
   "metadata": {
    "scrolled": false
   },
   "outputs": [],
   "source": [
    "#investigate offending rows. Rows had issues. Code has been commented out to save space.\n",
    "#for i in offending_rows:\n",
    "    #display(twitter_archive[twitter_archive.index == i])"
   ]
  },
  {
   "cell_type": "markdown",
   "metadata": {},
   "source": [
    "### Checking Names Column\n",
    "\n",
    "Since names are capitalized, names that are lowercase will be flagged as they will likely not be actual names."
   ]
  },
  {
   "cell_type": "code",
   "execution_count": 397,
   "metadata": {},
   "outputs": [
    {
     "data": {
      "text/plain": [
       "['Lilli',\n",
       " 'Tayzie',\n",
       " 'Corey',\n",
       " 'Freddery',\n",
       " 'Lola',\n",
       " 'Earl',\n",
       " 'Rorie',\n",
       " 'Odie',\n",
       " 'Gromit',\n",
       " 'Elliot',\n",
       " 'Gilbert',\n",
       " 'Chompsky',\n",
       " 'Alice',\n",
       " 'Patch',\n",
       " 'Zeke',\n",
       " 'Riley',\n",
       " 'Leo',\n",
       " 'Marley',\n",
       " 'Schnitzel',\n",
       " 'Jack']"
      ]
     },
     "execution_count": 397,
     "metadata": {},
     "output_type": "execute_result"
    }
   ],
   "source": [
    "#demonstrating regular names\n",
    "regular_names = []\n",
    "for name in twitter_archive.name:\n",
    "    if name[0].isupper() and name != 'None' and pd.notnull(name):\n",
    "        regular_names.append(name)\n",
    "sample(regular_names, 20)"
   ]
  },
  {
   "cell_type": "code",
   "execution_count": 412,
   "metadata": {},
   "outputs": [
    {
     "data": {
      "text/plain": [
       "[('such', 22),\n",
       " ('a', 56),\n",
       " ('quite', 118),\n",
       " ('quite', 169),\n",
       " ('quite', 193),\n",
       " ('not', 335),\n",
       " ('one', 369),\n",
       " ('incredibly', 542),\n",
       " ('a', 649),\n",
       " ('mad', 682),\n",
       " ('an', 759),\n",
       " ('very', 773),\n",
       " ('a', 801),\n",
       " ('very', 819),\n",
       " ('just', 822),\n",
       " ('my', 852),\n",
       " ('one', 924),\n",
       " ('not', 988),\n",
       " ('his', 992),\n",
       " ('one', 993),\n",
       " ('a', 1002),\n",
       " ('a', 1004),\n",
       " ('a', 1017),\n",
       " ('an', 1025),\n",
       " ('very', 1031),\n",
       " ('actually', 1040),\n",
       " ('a', 1049),\n",
       " ('just', 1063),\n",
       " ('getting', 1071),\n",
       " ('mad', 1095),\n",
       " ('very', 1097),\n",
       " ('this', 1120),\n",
       " ('unacceptable', 1121),\n",
       " ('all', 1138),\n",
       " ('a', 1193),\n",
       " ('old', 1206),\n",
       " ('a', 1207),\n",
       " ('infuriating', 1259),\n",
       " ('a', 1340),\n",
       " ('a', 1351),\n",
       " ('a', 1361),\n",
       " ('an', 1362),\n",
       " ('a', 1368),\n",
       " ('a', 1382),\n",
       " ('very', 1385),\n",
       " ('getting', 1435),\n",
       " ('just', 1457),\n",
       " ('a', 1499),\n",
       " ('the', 1527),\n",
       " ('the', 1603),\n",
       " ('actually', 1693),\n",
       " ('by', 1724),\n",
       " ('a', 1737),\n",
       " ('officially', 1747),\n",
       " ('a', 1785),\n",
       " ('the', 1797),\n",
       " ('the', 1815),\n",
       " ('a', 1853),\n",
       " ('a', 1854),\n",
       " ('a', 1877),\n",
       " ('a', 1878),\n",
       " ('life', 1916),\n",
       " ('a', 1923),\n",
       " ('one', 1936),\n",
       " ('a', 1941),\n",
       " ('a', 1955),\n",
       " ('a', 1994),\n",
       " ('light', 2001),\n",
       " ('just', 2019),\n",
       " ('space', 2030),\n",
       " ('a', 2034),\n",
       " ('the', 2037),\n",
       " ('a', 2066),\n",
       " ('a', 2116),\n",
       " ('a', 2125),\n",
       " ('a', 2128),\n",
       " ('a', 2146),\n",
       " ('a', 2153),\n",
       " ('a', 2161),\n",
       " ('a', 2191),\n",
       " ('a', 2198),\n",
       " ('an', 2204),\n",
       " ('a', 2211),\n",
       " ('the', 2212),\n",
       " ('a', 2218),\n",
       " ('a', 2222),\n",
       " ('a', 2235),\n",
       " ('a', 2249),\n",
       " ('a', 2255),\n",
       " ('a', 2264),\n",
       " ('a', 2273),\n",
       " ('a', 2287),\n",
       " ('a', 2304),\n",
       " ('a', 2311),\n",
       " ('a', 2314),\n",
       " ('quite', 2326),\n",
       " ('a', 2327),\n",
       " ('an', 2333),\n",
       " ('a', 2334),\n",
       " ('an', 2335),\n",
       " ('the', 2345),\n",
       " ('the', 2346),\n",
       " ('a', 2347),\n",
       " ('a', 2348),\n",
       " ('an', 2349),\n",
       " ('a', 2350),\n",
       " ('a', 2352),\n",
       " ('a', 2353),\n",
       " ('a', 2354)]"
      ]
     },
     "execution_count": 412,
     "metadata": {},
     "output_type": "execute_result"
    }
   ],
   "source": [
    "#flagging lowercase names and index\n",
    "incorrect_names = []\n",
    "for index, row in twitter_archive.iterrows():\n",
    "    if row['name'][0].islower() and row['name'] != 'None' and pd.notnull(row['name']):\n",
    "        incorrect_names.append((row['name'], index))\n",
    "incorrect_names\n",
    "#len(incorrect_names) returns 109 instances"
   ]
  },
  {
   "cell_type": "markdown",
   "metadata": {},
   "source": [
    "## predicts"
   ]
  },
  {
   "cell_type": "code",
   "execution_count": 10,
   "metadata": {
    "scrolled": false
   },
   "outputs": [
    {
     "data": {
      "text/html": [
       "<div>\n",
       "<style scoped>\n",
       "    .dataframe tbody tr th:only-of-type {\n",
       "        vertical-align: middle;\n",
       "    }\n",
       "\n",
       "    .dataframe tbody tr th {\n",
       "        vertical-align: top;\n",
       "    }\n",
       "\n",
       "    .dataframe thead th {\n",
       "        text-align: right;\n",
       "    }\n",
       "</style>\n",
       "<table border=\"1\" class=\"dataframe\">\n",
       "  <thead>\n",
       "    <tr style=\"text-align: right;\">\n",
       "      <th></th>\n",
       "      <th>tweet_id</th>\n",
       "      <th>jpg_url</th>\n",
       "      <th>img_num</th>\n",
       "      <th>p1</th>\n",
       "      <th>p1_conf</th>\n",
       "      <th>p1_dog</th>\n",
       "      <th>p2</th>\n",
       "      <th>p2_conf</th>\n",
       "      <th>p2_dog</th>\n",
       "      <th>p3</th>\n",
       "      <th>p3_conf</th>\n",
       "      <th>p3_dog</th>\n",
       "    </tr>\n",
       "  </thead>\n",
       "  <tbody>\n",
       "    <tr>\n",
       "      <th>254</th>\n",
       "      <td>670733412878163972</td>\n",
       "      <td>https://pbs.twimg.com/media/CU7seitWwAArlVy.jpg</td>\n",
       "      <td>1</td>\n",
       "      <td>dhole</td>\n",
       "      <td>0.350416</td>\n",
       "      <td>False</td>\n",
       "      <td>hare</td>\n",
       "      <td>0.236661</td>\n",
       "      <td>False</td>\n",
       "      <td>wood_rabbit</td>\n",
       "      <td>0.091133</td>\n",
       "      <td>False</td>\n",
       "    </tr>\n",
       "    <tr>\n",
       "      <th>1229</th>\n",
       "      <td>745433870967832576</td>\n",
       "      <td>https://pbs.twimg.com/media/ClhQJUUWAAEVpBX.jpg</td>\n",
       "      <td>1</td>\n",
       "      <td>barrow</td>\n",
       "      <td>0.999962</td>\n",
       "      <td>False</td>\n",
       "      <td>basset</td>\n",
       "      <td>0.000014</td>\n",
       "      <td>True</td>\n",
       "      <td>wok</td>\n",
       "      <td>0.000006</td>\n",
       "      <td>False</td>\n",
       "    </tr>\n",
       "    <tr>\n",
       "      <th>1918</th>\n",
       "      <td>855459453768019968</td>\n",
       "      <td>https://pbs.twimg.com/media/C98z1ZAXsAEIFFn.jpg</td>\n",
       "      <td>2</td>\n",
       "      <td>Blenheim_spaniel</td>\n",
       "      <td>0.389513</td>\n",
       "      <td>True</td>\n",
       "      <td>Pekinese</td>\n",
       "      <td>0.188220</td>\n",
       "      <td>True</td>\n",
       "      <td>Japanese_spaniel</td>\n",
       "      <td>0.082628</td>\n",
       "      <td>True</td>\n",
       "    </tr>\n",
       "    <tr>\n",
       "      <th>202</th>\n",
       "      <td>669683899023405056</td>\n",
       "      <td>https://pbs.twimg.com/media/CUsx8q_WUAA-m4k.jpg</td>\n",
       "      <td>1</td>\n",
       "      <td>Pomeranian</td>\n",
       "      <td>0.998275</td>\n",
       "      <td>True</td>\n",
       "      <td>Chihuahua</td>\n",
       "      <td>0.000605</td>\n",
       "      <td>True</td>\n",
       "      <td>Pekinese</td>\n",
       "      <td>0.000516</td>\n",
       "      <td>True</td>\n",
       "    </tr>\n",
       "    <tr>\n",
       "      <th>472</th>\n",
       "      <td>675145476954566656</td>\n",
       "      <td>https://pbs.twimg.com/media/CV6ZOPqWsAA20Uj.jpg</td>\n",
       "      <td>1</td>\n",
       "      <td>Labrador_retriever</td>\n",
       "      <td>0.458746</td>\n",
       "      <td>True</td>\n",
       "      <td>Great_Dane</td>\n",
       "      <td>0.235504</td>\n",
       "      <td>True</td>\n",
       "      <td>Staffordshire_bullterrier</td>\n",
       "      <td>0.116864</td>\n",
       "      <td>True</td>\n",
       "    </tr>\n",
       "  </tbody>\n",
       "</table>\n",
       "</div>"
      ],
      "text/plain": [
       "                tweet_id                                          jpg_url  \\\n",
       "254   670733412878163972  https://pbs.twimg.com/media/CU7seitWwAArlVy.jpg   \n",
       "1229  745433870967832576  https://pbs.twimg.com/media/ClhQJUUWAAEVpBX.jpg   \n",
       "1918  855459453768019968  https://pbs.twimg.com/media/C98z1ZAXsAEIFFn.jpg   \n",
       "202   669683899023405056  https://pbs.twimg.com/media/CUsx8q_WUAA-m4k.jpg   \n",
       "472   675145476954566656  https://pbs.twimg.com/media/CV6ZOPqWsAA20Uj.jpg   \n",
       "\n",
       "      img_num                  p1   p1_conf  p1_dog          p2   p2_conf  \\\n",
       "254         1               dhole  0.350416   False        hare  0.236661   \n",
       "1229        1              barrow  0.999962   False      basset  0.000014   \n",
       "1918        2    Blenheim_spaniel  0.389513    True    Pekinese  0.188220   \n",
       "202         1          Pomeranian  0.998275    True   Chihuahua  0.000605   \n",
       "472         1  Labrador_retriever  0.458746    True  Great_Dane  0.235504   \n",
       "\n",
       "      p2_dog                         p3   p3_conf  p3_dog  \n",
       "254    False                wood_rabbit  0.091133   False  \n",
       "1229    True                        wok  0.000006   False  \n",
       "1918    True           Japanese_spaniel  0.082628    True  \n",
       "202     True                   Pekinese  0.000516    True  \n",
       "472     True  Staffordshire_bullterrier  0.116864    True  "
      ]
     },
     "execution_count": 10,
     "metadata": {},
     "output_type": "execute_result"
    }
   ],
   "source": [
    "predicts.sample(5)"
   ]
  },
  {
   "cell_type": "code",
   "execution_count": 8,
   "metadata": {},
   "outputs": [
    {
     "name": "stdout",
     "output_type": "stream",
     "text": [
      "<class 'pandas.core.frame.DataFrame'>\n",
      "RangeIndex: 2075 entries, 0 to 2074\n",
      "Data columns (total 12 columns):\n",
      "tweet_id    2075 non-null int64\n",
      "jpg_url     2075 non-null object\n",
      "img_num     2075 non-null int64\n",
      "p1          2075 non-null object\n",
      "p1_conf     2075 non-null float64\n",
      "p1_dog      2075 non-null bool\n",
      "p2          2075 non-null object\n",
      "p2_conf     2075 non-null float64\n",
      "p2_dog      2075 non-null bool\n",
      "p3          2075 non-null object\n",
      "p3_conf     2075 non-null float64\n",
      "p3_dog      2075 non-null bool\n",
      "dtypes: bool(3), float64(3), int64(2), object(4)\n",
      "memory usage: 152.1+ KB\n"
     ]
    }
   ],
   "source": [
    "predicts.info()"
   ]
  },
  {
   "cell_type": "markdown",
   "metadata": {},
   "source": [
    "## twitter_api"
   ]
  },
  {
   "cell_type": "code",
   "execution_count": 16,
   "metadata": {
    "scrolled": true
   },
   "outputs": [
    {
     "data": {
      "text/html": [
       "<div>\n",
       "<style scoped>\n",
       "    .dataframe tbody tr th:only-of-type {\n",
       "        vertical-align: middle;\n",
       "    }\n",
       "\n",
       "    .dataframe tbody tr th {\n",
       "        vertical-align: top;\n",
       "    }\n",
       "\n",
       "    .dataframe thead th {\n",
       "        text-align: right;\n",
       "    }\n",
       "</style>\n",
       "<table border=\"1\" class=\"dataframe\">\n",
       "  <thead>\n",
       "    <tr style=\"text-align: right;\">\n",
       "      <th></th>\n",
       "      <th>id</th>\n",
       "      <th>favorite_count</th>\n",
       "      <th>retweet_count</th>\n",
       "    </tr>\n",
       "  </thead>\n",
       "  <tbody>\n",
       "    <tr>\n",
       "      <th>1399</th>\n",
       "      <td>699691744225525762</td>\n",
       "      <td>10518</td>\n",
       "      <td>4735</td>\n",
       "    </tr>\n",
       "    <tr>\n",
       "      <th>1733</th>\n",
       "      <td>679777920601223168</td>\n",
       "      <td>3148</td>\n",
       "      <td>1135</td>\n",
       "    </tr>\n",
       "    <tr>\n",
       "      <th>1373</th>\n",
       "      <td>701981390485725185</td>\n",
       "      <td>3531</td>\n",
       "      <td>1012</td>\n",
       "    </tr>\n",
       "    <tr>\n",
       "      <th>1115</th>\n",
       "      <td>732726085725589504</td>\n",
       "      <td>3618</td>\n",
       "      <td>908</td>\n",
       "    </tr>\n",
       "    <tr>\n",
       "      <th>2224</th>\n",
       "      <td>668291999406125056</td>\n",
       "      <td>239</td>\n",
       "      <td>29</td>\n",
       "    </tr>\n",
       "  </tbody>\n",
       "</table>\n",
       "</div>"
      ],
      "text/plain": [
       "                      id favorite_count retweet_count\n",
       "1399  699691744225525762          10518          4735\n",
       "1733  679777920601223168           3148          1135\n",
       "1373  701981390485725185           3531          1012\n",
       "1115  732726085725589504           3618           908\n",
       "2224  668291999406125056            239            29"
      ]
     },
     "execution_count": 16,
     "metadata": {},
     "output_type": "execute_result"
    }
   ],
   "source": [
    "twitter_api.sample(5)"
   ]
  },
  {
   "cell_type": "code",
   "execution_count": 9,
   "metadata": {},
   "outputs": [
    {
     "name": "stdout",
     "output_type": "stream",
     "text": [
      "<class 'pandas.core.frame.DataFrame'>\n",
      "RangeIndex: 2356 entries, 0 to 2355\n",
      "Data columns (total 4 columns):\n",
      "id                2356 non-null int64\n",
      "favorite_count    2356 non-null object\n",
      "retweet_count     2356 non-null object\n",
      "expanded_url      2191 non-null object\n",
      "dtypes: int64(1), object(3)\n",
      "memory usage: 73.7+ KB\n"
     ]
    }
   ],
   "source": [
    "twitter_api.info()"
   ]
  },
  {
   "cell_type": "markdown",
   "metadata": {},
   "source": [
    "# Clean"
   ]
  },
  {
   "cell_type": "markdown",
   "metadata": {},
   "source": [
    "Creating Cleaning Copies"
   ]
  },
  {
   "cell_type": "code",
   "execution_count": 68,
   "metadata": {},
   "outputs": [],
   "source": [
    "twitter_archive_clean = twitter_archive.copy()"
   ]
  },
  {
   "cell_type": "code",
   "execution_count": 66,
   "metadata": {},
   "outputs": [],
   "source": [
    "predicts_clean = predicts.copy()"
   ]
  },
  {
   "cell_type": "code",
   "execution_count": 67,
   "metadata": {},
   "outputs": [],
   "source": [
    "twitter_api_clean = twitter_api.copy()"
   ]
  },
  {
   "cell_type": "markdown",
   "metadata": {},
   "source": [
    "### Twitter Archive"
   ]
  },
  {
   "cell_type": "markdown",
   "metadata": {},
   "source": [
    "#### Quality\n",
    "- timestamp is a string and not datetime\n",
    "- text column irrelevant material\n",
    "- missing values in expanded_urls\n",
    "- There are 42 instances where categorical variables are found in the text, but are not accurately accounted for in the categorical columns\n",
    "- There are 109 instances where the name column is not accurate, (ex: index 542 name is considered \"incredibly\" since text before contains \"incredible\"), and an incorrect name is in place.\n",
    "    - I recognize that it is an oversight that I cannot test whether or not a name is missed because I do not yet have knowledge of a language processing library.\n",
    "- Missing rows in \"in_reply_to_status_id\" \"in_reply_to_user_id\" \"retweeted_status_id\" \"retweeted_status_user_id\" \"retweeted_status_timestamp\"\n",
    "- Ratings may contain floats. Texts needs to be checked again\n",
    "- change id to string\n",
    "\n",
    "#### Tidiness\n",
    "- text column contains a source variable for the tweet\n",
    "- dog \"ages/types\" (floofer, pupper etc.) should be single, categorial column"
   ]
  },
  {
   "cell_type": "markdown",
   "metadata": {},
   "source": [
    "#### Define \n",
    "Use astype to change timestamp to timedate"
   ]
  },
  {
   "cell_type": "markdown",
   "metadata": {},
   "source": [
    "#### Code"
   ]
  },
  {
   "cell_type": "code",
   "execution_count": 69,
   "metadata": {},
   "outputs": [],
   "source": [
    "twitter_archive_clean.timestamp = pd.to_datetime(twitter_archive.timestamp)"
   ]
  },
  {
   "cell_type": "markdown",
   "metadata": {},
   "source": [
    "#### Test"
   ]
  },
  {
   "cell_type": "code",
   "execution_count": 32,
   "metadata": {
    "scrolled": true
   },
   "outputs": [],
   "source": [
    "#timestamp was successfully changed to datetime, commented for space\n",
    "#twitter_archive_clean.info();"
   ]
  },
  {
   "cell_type": "markdown",
   "metadata": {},
   "source": [
    "#### Define\n",
    "Use str.replace to remove unwanted url from text column"
   ]
  },
  {
   "cell_type": "markdown",
   "metadata": {},
   "source": [
    "#### Code"
   ]
  },
  {
   "cell_type": "code",
   "execution_count": 70,
   "metadata": {},
   "outputs": [
    {
     "data": {
      "text/plain": [
       "\"This is Phineas. He's a mystical boy. Only ever appears in the hole of a donut. 13/10 https://t.co/MgUWQ76dJU\""
      ]
     },
     "execution_count": 70,
     "metadata": {},
     "output_type": "execute_result"
    }
   ],
   "source": [
    "#testing\n",
    "twitter_archive.text[0]"
   ]
  },
  {
   "cell_type": "code",
   "execution_count": 57,
   "metadata": {},
   "outputs": [
    {
     "data": {
      "text/plain": [
       "\"This is Phineas. He's a mystical boy. Only ever appears in the hole of a donut. 13/10 \""
      ]
     },
     "execution_count": 57,
     "metadata": {},
     "output_type": "execute_result"
    }
   ],
   "source": [
    "#regex citation: https://stackoverflow.com/questions/6038061/regular-expression-to-find-urls-within-a-string\n",
    "#regex group matches with any instance with beginning with http/ftp/https\n",
    "#includes characacters :// \n",
    "#([\\w_-]+(?:(?:\\.[\\w_-]+)+))groups combonations of \"alphanumeric.alphanumeric\"\n",
    "#([\\w.,@?^=%&:/~+#-]*[\\w@?^=%&/~+#-])? groups combonations of alphanumeric and special symbols\n",
    "text = re.sub(r'(http|ftp|https)://([\\w_-]+(?:(?:\\.[\\w_-]+)+))([\\w.,@?^=%&:/~+#-]*[\\w@?^=%&/~+#-])?', '', twitter_archive.text[0], flags = re.MULTILINE)\n",
    "text"
   ]
  },
  {
   "cell_type": "code",
   "execution_count": 76,
   "metadata": {
    "scrolled": true
   },
   "outputs": [],
   "source": [
    "twitter_archive_clean.text = twitter_archive_clean.text.str.replace(r'(http|ftp|https)://([\\w_-]+(?:(?:\\.[\\w_-]+)+))([\\w.,@?^=%&:/~+#-]*[\\w@?^=%&/~+#-])?', '');"
   ]
  },
  {
   "cell_type": "markdown",
   "metadata": {},
   "source": [
    "#### Test"
   ]
  },
  {
   "cell_type": "code",
   "execution_count": 78,
   "metadata": {},
   "outputs": [],
   "source": [
    "#urls removed, supressed for space\n",
    "twitter_archive_clean.text;"
   ]
  },
  {
   "cell_type": "code",
   "execution_count": 82,
   "metadata": {},
   "outputs": [],
   "source": [
    "twitter_archive_clean.sample(5);"
   ]
  },
  {
   "cell_type": "code",
   "execution_count": null,
   "metadata": {},
   "outputs": [],
   "source": []
  },
  {
   "cell_type": "markdown",
   "metadata": {},
   "source": [
    "# Analysis"
   ]
  },
  {
   "cell_type": "markdown",
   "metadata": {},
   "source": [
    "(jotting ideas down early so as to not forget)\n",
    "### Motivating Questions:\n",
    "- Do higher \"ratings\" correlate with higher number of retweets? (Must define ratings. Std might be useful)\n",
    "- Investigate which is more \"popular\": Cute or Funny. Cute defined by Kindchenschema and funny defined by Benign Violation.\n",
    "- Within the categories of cuteness and funniness, are more extreme examples more popular? Measured by retweets.\n",
    "- What are observed characteristics of the top 3 most popular tweets? Is there a theme?"
   ]
  },
  {
   "cell_type": "markdown",
   "metadata": {},
   "source": [
    "Although the ratings individually do not seem to make much sense due to the numerator exceeding the denominator, perhaps the ratings can be better understood as a decimal score, with higher scores indicating higher approval."
   ]
  },
  {
   "cell_type": "code",
   "execution_count": null,
   "metadata": {},
   "outputs": [],
   "source": []
  }
 ],
 "metadata": {
  "kernelspec": {
   "display_name": "Python 3",
   "language": "python",
   "name": "python3"
  },
  "language_info": {
   "codemirror_mode": {
    "name": "ipython",
    "version": 3
   },
   "file_extension": ".py",
   "mimetype": "text/x-python",
   "name": "python",
   "nbconvert_exporter": "python",
   "pygments_lexer": "ipython3",
   "version": "3.7.3"
  }
 },
 "nbformat": 4,
 "nbformat_minor": 2
}
