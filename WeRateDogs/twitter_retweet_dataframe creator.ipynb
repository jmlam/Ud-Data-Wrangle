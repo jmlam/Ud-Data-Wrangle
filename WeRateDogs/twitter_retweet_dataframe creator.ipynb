{
 "cells": [
  {
   "cell_type": "code",
   "execution_count": 1,
   "metadata": {},
   "outputs": [],
   "source": [
    "import tweepy\n",
    "import pandas as pd\n",
    "import numpy as np\n",
    "import json"
   ]
  },
  {
   "cell_type": "code",
   "execution_count": 7,
   "metadata": {},
   "outputs": [],
   "source": [
    "df = pd.read_csv('twitter-archive-enhanced.csv')"
   ]
  },
  {
   "cell_type": "code",
   "execution_count": 8,
   "metadata": {},
   "outputs": [
    {
     "name": "stdout",
     "output_type": "stream",
     "text": [
      "<class 'pandas.core.frame.DataFrame'>\n",
      "RangeIndex: 2356 entries, 0 to 2355\n",
      "Data columns (total 17 columns):\n",
      "tweet_id                      2356 non-null int64\n",
      "in_reply_to_status_id         78 non-null float64\n",
      "in_reply_to_user_id           78 non-null float64\n",
      "timestamp                     2356 non-null object\n",
      "source                        2356 non-null object\n",
      "text                          2356 non-null object\n",
      "retweeted_status_id           181 non-null float64\n",
      "retweeted_status_user_id      181 non-null float64\n",
      "retweeted_status_timestamp    181 non-null object\n",
      "expanded_urls                 2297 non-null object\n",
      "rating_numerator              2356 non-null int64\n",
      "rating_denominator            2356 non-null int64\n",
      "name                          2356 non-null object\n",
      "doggo                         2356 non-null object\n",
      "floofer                       2356 non-null object\n",
      "pupper                        2356 non-null object\n",
      "puppo                         2356 non-null object\n",
      "dtypes: float64(4), int64(3), object(10)\n",
      "memory usage: 313.0+ KB\n"
     ]
    }
   ],
   "source": [
    "df.info()"
   ]
  },
  {
   "cell_type": "code",
   "execution_count": 6,
   "metadata": {},
   "outputs": [
    {
     "name": "stdout",
     "output_type": "stream",
     "text": [
      "892177421306343426, None{\"contributors\": null, \"coordinates\": null, \"created_at\": \"Tue Aug 01 16:23:56 +0000 2017\", \"entities\": {\"hashtags\": [], \"media\": [{\"display_url\": \"pic.twitter.com/MgUWQ76dJU\", \"expanded_url\": \"https://twitter.com/dog_rates/status/892420643555336193/photo/1\", \"id\": 892420639486877696, \"id_str\": \"892420639486877696\", \"indices\": [86, 109], \"media_url\": \"http://pbs.twimg.com/media/DGKD1-bXoAAIAUK.jpg\", \"media_url_https\": \"https://pbs.twimg.com/media/DGKD1-bXoAAIAUK.jpg\", \"sizes\": {\"large\": {\"h\": 528, \"resize\": \"fit\", \"w\": 540}, \"medium\": {\"h\": 528, \"resize\": \"fit\", \"w\": 540}, \"small\": {\"h\": 528, \"resize\": \"fit\", \"w\": 540}, \"thumb\": {\"h\": 150, \"resize\": \"crop\", \"w\": 150}}, \"type\": \"photo\", \"url\": \"https://t.co/MgUWQ76dJU\"}], \"symbols\": [], \"urls\": [], \"user_mentions\": []}, \"extended_entities\": {\"media\": [{\"display_url\": \"pic.twitter.com/MgUWQ76dJU\", \"expanded_url\": \"https://twitter.com/dog_rates/status/892420643555336193/photo/1\", \"id\": 892420639486877696, \"id_str\": \"892420639486877696\", \"indices\": [86, 109], \"media_url\": \"http://pbs.twimg.com/media/DGKD1-bXoAAIAUK.jpg\", \"media_url_https\": \"https://pbs.twimg.com/media/DGKD1-bXoAAIAUK.jpg\", \"sizes\": {\"large\": {\"h\": 528, \"resize\": \"fit\", \"w\": 540}, \"medium\": {\"h\": 528, \"resize\": \"fit\", \"w\": 540}, \"small\": {\"h\": 528, \"resize\": \"fit\", \"w\": 540}, \"thumb\": {\"h\": 150, \"resize\": \"crop\", \"w\": 150}}, \"type\": \"photo\", \"url\": \"https://t.co/MgUWQ76dJU\"}]}, \"favorite_count\": 37170, \"favorited\": false, \"geo\": null, \"id\": 892420643555336193, \"id_str\": \"892420643555336193\", \"in_reply_to_screen_name\": null, \"in_reply_to_status_id\": null, \"in_reply_to_status_id_str\": null, \"in_reply_to_user_id\": null, \"in_reply_to_user_id_str\": null, \"is_quote_status\": false, \"lang\": \"en\", \"place\": null, \"possibly_sensitive\": false, \"possibly_sensitive_appealable\": false, \"retweet_count\": 7950, \"retweeted\": false, \"source\": \"<a href=\\\"http://twitter.com/download/iphone\\\" rel=\\\"nofollow\\\">Twitter for iPhone</a>\", \"text\": \"This is Phineas. He's a mystical boy. Only ever appears in the hole of a donut. 13/10 https://t.co/MgUWQ76dJU\", \"truncated\": false, \"user\": {\"contributors_enabled\": false, \"created_at\": \"Sun Nov 15 21:41:29 +0000 2015\", \"default_profile\": false, \"default_profile_image\": false, \"description\": \"Your Only Source For Professional Dog Ratings Instagram and Facebook \\u27aa WeRateDogs partnerships@weratedogs.com \\u2800\\u2800\\u2800\\u2800\\u2800\\u2800\\u2800\\u2800\\u2800\\u2800\\u2800\\u2800\", \"entities\": {\"description\": {\"urls\": []}, \"url\": {\"urls\": [{\"display_url\": \"weratedogs.com\", \"expanded_url\": \"http://weratedogs.com\", \"indices\": [0, 23], \"url\": \"https://t.co/N7sNNHAEXS\"}]}}, \"favourites_count\": 143189, \"follow_request_sent\": null, \"followers_count\": 8335866, \"following\": null, \"friends_count\": 14, \"geo_enabled\": true, \"has_extended_profile\": false, \"id\": 4196983835, \"id_str\": \"4196983835\", \"is_translation_enabled\": false, \"is_translator\": false, \"lang\": null, \"listed_count\": 6464, \"location\": \"\\u300c DM YOUR DOGS \\u300d\", \"name\": \"WeRateDogs\\u2122\", \"notifications\": null, \"profile_background_color\": \"000000\", \"profile_background_image_url\": \"http://abs.twimg.com/images/themes/theme1/bg.png\", \"profile_background_image_url_https\": \"https://abs.twimg.com/images/themes/theme1/bg.png\", \"profile_background_tile\": false, \"profile_banner_url\": \"https://pbs.twimg.com/profile_banners/4196983835/1565965307\", \"profile_image_url\": \"http://pbs.twimg.com/profile_images/1112594177961844736/qQK8NJT-_normal.jpg\", \"profile_image_url_https\": \"https://pbs.twimg.com/profile_images/1112594177961844736/qQK8NJT-_normal.jpg\", \"profile_link_color\": \"F5ABB5\", \"profile_sidebar_border_color\": \"000000\", \"profile_sidebar_fill_color\": \"000000\", \"profile_text_color\": \"000000\", \"profile_use_background_image\": false, \"protected\": false, \"screen_name\": \"dog_rates\", \"statuses_count\": 10745, \"time_zone\": null, \"translator_type\": \"none\", \"url\": \"https://t.co/N7sNNHAEXS\", \"utc_offset\": null, \"verified\": true}}\n",
      "\n"
     ]
    }
   ],
   "source": [
    "with open('tweet_json.txt') as json_file:\n",
    "    line = json_file.readline()\n",
    "    print(line)"
   ]
  },
  {
   "cell_type": "code",
   "execution_count": null,
   "metadata": {},
   "outputs": [],
   "source": []
  }
 ],
 "metadata": {
  "kernelspec": {
   "display_name": "Python 3",
   "language": "python",
   "name": "python3"
  },
  "language_info": {
   "codemirror_mode": {
    "name": "ipython",
    "version": 3
   },
   "file_extension": ".py",
   "mimetype": "text/x-python",
   "name": "python",
   "nbconvert_exporter": "python",
   "pygments_lexer": "ipython3",
   "version": "3.7.3"
  }
 },
 "nbformat": 4,
 "nbformat_minor": 2
}
