{
 "cells": [
  {
   "cell_type": "code",
   "execution_count": 157,
   "metadata": {},
   "outputs": [],
   "source": [
    "import tweepy\n",
    "import pandas as pd\n",
    "import numpy as np\n",
    "import json"
   ]
  },
  {
   "cell_type": "code",
   "execution_count": 186,
   "metadata": {},
   "outputs": [],
   "source": [
    "twitter_archive = pd.read_csv('twitter-archive-enhanced.csv')"
   ]
  },
  {
   "cell_type": "code",
   "execution_count": 3,
   "metadata": {},
   "outputs": [],
   "source": [
    "#loading all json objects into a list. python dict list\n",
    "data = []\n",
    "with open('tweet_json_2.txt') as json_file:\n",
    "    for line in json_file:\n",
    "        try:\n",
    "            data.append(json.loads(line))\n",
    "        except:\n",
    "            data.append(line)"
   ]
  },
  {
   "cell_type": "code",
   "execution_count": 158,
   "metadata": {
    "scrolled": true
   },
   "outputs": [],
   "source": [
    "data[3];"
   ]
  },
  {
   "cell_type": "code",
   "execution_count": 182,
   "metadata": {},
   "outputs": [],
   "source": [
    "def find_key(target_key, collection):\n",
    "    '''Searches for all instances in the nested dictionary where a key matches the target key and returns a list of values with matching keys'''\n",
    "    result_list = []\n",
    "    if isinstance(collection, list):\n",
    "        for item in collection:\n",
    "            result_list += find_key(target_key, item)\n",
    "    elif isinstance(collection, dict):\n",
    "        for key, value in collection.items():\n",
    "            if key == target_key:\n",
    "                result_list += [value]\n",
    "            else:\n",
    "                result_list += find_key(target_key, value)\n",
    "    return result_list"
   ]
  },
  {
   "cell_type": "code",
   "execution_count": 195,
   "metadata": {
    "scrolled": false
   },
   "outputs": [
    {
     "data": {
      "text/plain": [
       "['https://twitter.com/dog_rates/status/892420643555336193/photo/1']"
      ]
     },
     "execution_count": 195,
     "metadata": {},
     "output_type": "execute_result"
    }
   ],
   "source": [
    "# unique expanded urls that are not weratedogs.com\n",
    "[i for i in np.unique(np.array(find_key('expanded_url', data[0]))) if i != 'http://weratedogs.com']"
   ]
  },
  {
   "cell_type": "code",
   "execution_count": 210,
   "metadata": {},
   "outputs": [
    {
     "data": {
      "text/plain": [
       "[892420643555336193]"
      ]
     },
     "execution_count": 210,
     "metadata": {},
     "output_type": "execute_result"
    }
   ],
   "source": [
    "# tweet ids instead of picture ids\n",
    "row = []\n",
    "row +=[i for i in find_key('id', data[0]) if i in np.array(twitter_archive.tweet_id) ]\n",
    "row"
   ]
  },
  {
   "cell_type": "code",
   "execution_count": 212,
   "metadata": {},
   "outputs": [],
   "source": [
    "#creating empty dataframe\n",
    "df = pd.DataFrame(columns = ['id', 'favorite_count','retweet_count', 'expanded_url'])"
   ]
  },
  {
   "cell_type": "code",
   "execution_count": 218,
   "metadata": {},
   "outputs": [
    {
     "data": {
      "text/plain": [
       "'888202515573088257, None\\n'"
      ]
     },
     "execution_count": 218,
     "metadata": {},
     "output_type": "execute_result"
    }
   ],
   "source": [
    "data[19]"
   ]
  },
  {
   "cell_type": "code",
   "execution_count": 229,
   "metadata": {
    "scrolled": true
   },
   "outputs": [
    {
     "data": {
      "text/plain": [
       "True"
      ]
     },
     "execution_count": 229,
     "metadata": {},
     "output_type": "execute_result"
    }
   ],
   "source": [
    "find_key('expanded_url', data[30]) == ['http://weratedogs.com']"
   ]
  },
  {
   "cell_type": "code",
   "execution_count": 241,
   "metadata": {},
   "outputs": [
    {
     "name": "stdout",
     "output_type": "stream",
     "text": [
      "https://twitter.com/i/web/status/892177421306343426\n",
      "https://twitter.com/i/web/status/891815181378084864\n",
      "https://twitter.com/i/web/status/891327558926688256\n",
      "https://twitter.com/i/web/status/891087950875897856\n",
      "https://twitter.com/i/web/status/890971913173991426\n",
      "https://twitter.com/i/web/status/890729181411237888\n",
      "https://twitter.com/i/web/status/890609185150312448\n",
      "https://twitter.com/i/web/status/890240255349198849\n",
      "https://twitter.com/i/web/status/890006608113172480\n",
      "https://twitter.com/i/web/status/889531135344209921\n",
      "https://twitter.com/i/web/status/889278841981685760\n",
      "https://twitter.com/i/web/status/888804989199671297\n",
      "https://twitter.com/i/web/status/888078434458587136\n",
      "https://twitter.com/i/web/status/887705289381826560\n",
      "https://twitter.com/i/web/status/887101392804085760\n",
      "https://twitter.com/i/web/status/886736880519319552\n",
      "https://twitter.com/i/web/status/886366144734445568\n",
      "https://twitter.com/i/web/status/886053434075471873\n",
      "https://twitter.com/i/web/status/885984800019947520\n",
      "https://twitter.com/i/web/status/885167619883638784\n",
      "https://twitter.com/i/web/status/884876753390489601\n",
      "https://twitter.com/i/web/status/884441805382717440\n",
      "https://twitter.com/i/web/status/884162670584377345\n",
      "https://twitter.com/i/web/status/883838122936631299\n",
      "https://twitter.com/i/web/status/883360690899218434\n",
      "https://twitter.com/i/web/status/882627270321602560\n",
      "https://twitter.com/i/web/status/882045870035918850\n",
      "https://twitter.com/i/web/status/881536004380872706\n",
      "https://twitter.com/i/web/status/881268444196462592\n",
      "https://twitter.com/i/web/status/880872448815771648\n",
      "https://twitter.com/i/web/status/880095782870896641\n",
      "https://twitter.com/i/web/status/879376492567855104\n",
      "https://twitter.com/i/web/status/879050749262655488\n",
      "https://twitter.com/i/web/status/878776093423087618\n",
      "https://twitter.com/i/web/status/878281511006478336\n",
      "https://twitter.com/i/web/status/878281511006478336\n",
      "https://twitter.com/i/web/status/877556246731214848\n",
      "https://twitter.com/i/web/status/877316821321428993\n",
      "https://twitter.com/i/web/status/877201837425926144\n",
      "https://twitter.com/i/web/status/876838120628539392\n",
      "https://twitter.com/i/web/status/876537666061221889\n",
      "https://twitter.com/i/web/status/876484053909872640\n",
      "https://twitter.com/i/web/status/876120275196170240\n",
      "https://twitter.com/i/web/status/875747767867523072\n",
      "https://twitter.com/i/web/status/875144289856114688\n",
      "https://twitter.com/i/web/status/874057562936811520\n",
      "https://twitter.com/i/web/status/874012996292530176\n",
      "https://twitter.com/i/web/status/873580283840344065\n",
      "https://twitter.com/i/web/status/873213775632977920\n",
      "https://twitter.com/i/web/status/873213775632977920\n",
      "https://twitter.com/i/web/status/872967104147763200\n",
      "https://twitter.com/i/web/status/872820683541237760\n",
      "https://twitter.com/i/web/status/872486979161796608\n",
      "https://twitter.com/i/web/status/872122724285648897\n",
      "https://twitter.com/i/web/status/871879754684805121\n",
      "https://twitter.com/i/web/status/871762521631449091\n",
      "https://twitter.com/i/web/status/871515927908634625\n",
      "https://twitter.com/i/web/status/871032628920680449\n",
      "https://twitter.com/i/web/status/870804317367881728\n",
      "https://twitter.com/i/web/status/870656317836468226\n",
      "https://twitter.com/i/web/status/870374049280663552\n",
      "https://twitter.com/i/web/status/870308999962521604\n",
      "https://twitter.com/i/web/status/870063196459192321\n",
      "https://twitter.com/i/web/status/869702957897576449\n",
      "https://twitter.com/i/web/status/869596645499047938\n",
      "https://twitter.com/i/web/status/869227993411051520\n",
      "https://twitter.com/i/web/status/868552278524837888\n",
      "https://twitter.com/i/web/status/868552278524837888\n",
      "https://twitter.com/i/web/status/867900495410671616\n",
      "https://twitter.com/i/web/status/867421006826221569\n",
      "https://twitter.com/i/web/status/867051520902168576\n",
      "https://twitter.com/i/web/status/866686824827068416\n",
      "https://twitter.com/i/web/status/865718153858494464\n",
      "https://twitter.com/i/web/status/865359393868664832\n",
      "https://twitter.com/i/web/status/865006731092295680\n",
      "https://twitter.com/i/web/status/864873206498414592\n",
      "https://twitter.com/i/web/status/864279568663928832\n",
      "https://twitter.com/i/web/status/863907417377173506\n",
      "https://twitter.com/i/web/status/863062471531167744\n",
      "https://twitter.com/i/web/status/863432100342583297\n",
      "https://twitter.com/i/web/status/863079547188785154\n",
      "https://twitter.com/i/web/status/863062471531167744\n",
      "https://twitter.com/i/web/status/862831371563274240\n",
      "https://twitter.com/i/web/status/862722525377298433\n",
      "https://twitter.com/i/web/status/862457590147678208\n",
      "https://twitter.com/i/web/status/861288531465048066\n",
      "https://twitter.com/i/web/status/860563773140209665\n",
      "https://twitter.com/i/web/status/860563773140209665\n",
      "https://twitter.com/i/web/status/860276583193509888\n",
      "https://twitter.com/i/web/status/860184849394610176\n",
      "https://twitter.com/i/web/status/859924526012018688\n",
      "https://twitter.com/i/web/status/859851578198683649\n",
      "https://twitter.com/i/web/status/859607811541651456\n",
      "https://twitter.com/i/web/status/859196978902773760\n",
      "https://twitter.com/i/web/status/859074603037188101\n",
      "https://twitter.com/i/web/status/839549326359670784\n",
      "https://twitter.com/i/web/status/858843525470990336\n",
      "https://twitter.com/i/web/status/858107933456039936\n",
      "https://twitter.com/i/web/status/857989990357356544\n",
      "https://twitter.com/i/web/status/857746408056729600\n",
      "https://twitter.com/i/web/status/857393404942143489\n",
      "https://twitter.com/i/web/status/857263160327368704\n",
      "https://twitter.com/i/web/status/856543823941562368\n",
      "https://twitter.com/i/web/status/856288084350160898\n",
      "https://twitter.com/i/web/status/856282028240666624\n",
      "https://twitter.com/i/web/status/855851453814013952\n",
      "https://twitter.com/i/web/status/855459453768019968\n",
      "https://twitter.com/i/web/status/842163532590374912\n",
      "https://twitter.com/i/web/status/855122533267460096\n",
      "https://twitter.com/i/web/status/854120357044912130\n",
      "https://twitter.com/i/web/status/854010172552949760\n",
      "https://twitter.com/i/web/status/853760880890318849\n",
      "https://twitter.com/i/web/status/853299958564483072\n",
      "https://twitter.com/i/web/status/831650051525054464\n",
      "https://twitter.com/i/web/status/852912242202992640\n",
      "https://twitter.com/i/web/status/852553447878664193\n",
      "https://twitter.com/i/web/status/852311364735569921\n",
      "https://twitter.com/i/web/status/852226086759018497\n",
      "https://twitter.com/i/web/status/852189679701164033\n",
      "https://twitter.com/i/web/status/851591660324737024\n",
      "https://twitter.com/i/web/status/851464819735769094\n",
      "https://twitter.com/i/web/status/851224888060895234\n",
      "https://twitter.com/i/web/status/850753642995093505\n",
      "https://twitter.com/i/web/status/850380195714523136\n",
      "https://twitter.com/i/web/status/849776966551130114\n",
      "https://twitter.com/i/web/status/833124694597443584\n",
      "https://twitter.com/i/web/status/849336543269576704\n",
      "https://twitter.com/i/web/status/848690551926992896\n",
      "https://twitter.com/i/web/status/848324959059550208\n",
      "https://twitter.com/i/web/status/848212111729840128\n",
      "https://twitter.com/i/web/status/847962785489326080\n",
      "https://twitter.com/i/web/status/847842811428974592\n",
      "https://twitter.com/i/web/status/847157206088847362\n",
      "https://twitter.com/i/web/status/847116187444137987\n",
      "https://twitter.com/i/web/status/846874817362120707\n",
      "https://twitter.com/i/web/status/846514051647705089\n",
      "https://twitter.com/i/web/status/846088479142531073\n",
      "https://twitter.com/i/web/status/845677943972139009\n",
      "https://twitter.com/i/web/status/845397057150107648\n",
      "https://twitter.com/i/web/status/844973813909606400\n",
      "https://twitter.com/i/web/status/844580511645339650\n",
      "https://twitter.com/i/web/status/844223788422217728\n",
      "https://twitter.com/i/web/status/843856843873095681\n",
      "https://twitter.com/i/web/status/843235543001513987\n",
      "https://twitter.com/i/web/status/842765311967449089\n",
      "https://twitter.com/i/web/status/842163532590374912\n",
      "https://twitter.com/i/web/status/841680585030541313\n",
      "https://twitter.com/i/web/status/841439858740625411\n",
      "https://twitter.com/i/web/status/841311395547250688\n",
      "https://twitter.com/i/web/status/841314665196081154\n",
      "https://twitter.com/i/web/status/840632337062862849\n",
      "https://twitter.com/i/web/status/840632337062862849\n",
      "https://twitter.com/i/web/status/840268004936019968\n",
      "https://twitter.com/i/web/status/839549326359670784\n",
      "https://twitter.com/i/web/status/783839966405230592\n",
      "https://twitter.com/i/web/status/838561493054533637\n",
      "https://twitter.com/i/web/status/837482249356513284\n",
      "https://twitter.com/i/web/status/837471256429613056\n",
      "https://twitter.com/i/web/status/836989968035819520\n",
      "https://twitter.com/i/web/status/836753516572119041\n",
      "https://twitter.com/i/web/status/836677758902222849\n",
      "https://twitter.com/i/web/status/836648149003485187\n",
      "https://twitter.com/i/web/status/836380477523124226\n",
      "https://twitter.com/i/web/status/836260088725786625\n",
      "https://twitter.com/i/web/status/836001077879255040\n",
      "https://twitter.com/i/web/status/835264098648616962\n",
      "https://twitter.com/i/web/status/835297930240217089\n",
      "https://twitter.com/i/web/status/835264098648616962\n",
      "https://twitter.com/i/web/status/835172783151792128\n",
      "https://twitter.com/i/web/status/834931633769889797\n",
      "https://twitter.com/i/web/status/834786237630337024\n",
      "https://twitter.com/i/web/status/829501995190984704\n",
      "https://twitter.com/i/web/status/834458053273591808\n",
      "https://twitter.com/i/web/status/834167344700198914\n",
      "https://twitter.com/i/web/status/833826103416520705\n",
      "https://twitter.com/i/web/status/832434358292209665\n",
      "https://twitter.com/i/web/status/833722901757046785\n",
      "https://twitter.com/i/web/status/833124694597443584\n",
      "https://twitter.com/i/web/status/832998151111966721\n",
      "https://twitter.com/i/web/status/832757312314028032\n",
      "https://twitter.com/i/web/status/832397543355072512\n",
      "https://twitter.com/i/web/status/832273440279240704\n",
      "https://twitter.com/i/web/status/832032802820481025\n",
      "https://twitter.com/i/web/status/831939777352105988\n",
      "https://twitter.com/i/web/status/831911600680497154\n",
      "https://twitter.com/i/web/status/831650051525054464\n",
      "https://twitter.com/i/web/status/831552930092285952\n",
      "https://twitter.com/i/web/status/831315979191906304\n",
      "https://twitter.com/i/web/status/831309418084069378\n",
      "https://twitter.com/i/web/status/809220051211603969\n",
      "https://twitter.com/i/web/status/830097400375152640\n",
      "https://twitter.com/i/web/status/829501995190984704\n",
      "https://twitter.com/i/web/status/829449946868879360\n",
      "https://twitter.com/i/web/status/829011960981237760\n",
      "https://twitter.com/i/web/status/810254108431155201\n",
      "https://twitter.com/i/web/status/828770345708580865\n",
      "https://twitter.com/i/web/status/828708714936930305\n",
      "https://twitter.com/i/web/status/828408677031882754\n",
      "https://twitter.com/i/web/status/828381636999917570\n",
      "https://twitter.com/i/web/status/828372645993398273\n",
      "https://twitter.com/i/web/status/828046555563323392\n",
      "https://twitter.com/i/web/status/828011680017821696\n",
      "https://twitter.com/i/web/status/827933404142436356\n",
      "https://twitter.com/i/web/status/827653905312006145\n",
      "https://twitter.com/i/web/status/827600520311402496\n",
      "https://twitter.com/i/web/status/827324948884643840\n",
      "https://twitter.com/i/web/status/827199976799354881\n",
      "https://twitter.com/i/web/status/826848821049180160\n",
      "https://twitter.com/i/web/status/826476773533745153\n",
      "https://twitter.com/i/web/status/825535076884762624\n",
      "https://twitter.com/i/web/status/825026590719483904\n",
      "https://twitter.com/i/web/status/825026590719483904\n",
      "https://twitter.com/i/web/status/824775126675836928\n",
      "https://twitter.com/i/web/status/823699002998870016\n",
      "https://twitter.com/i/web/status/822975315408461824\n",
      "https://twitter.com/i/web/status/822859134160621569\n",
      "https://twitter.com/i/web/status/822610361945911296\n",
      "https://twitter.com/i/web/status/822462944365645825\n",
      "https://twitter.com/i/web/status/786233965241827333\n",
      "https://twitter.com/i/web/status/821522889702862852\n",
      "https://twitter.com/i/web/status/821107785811234820\n",
      "https://twitter.com/i/web/status/821044531881721856\n",
      "https://twitter.com/i/web/status/820314633777061888\n",
      "https://twitter.com/i/web/status/820314633777061888\n",
      "https://twitter.com/i/web/status/819952236453363712\n",
      "https://twitter.com/i/web/status/819952236453363712\n",
      "https://twitter.com/i/web/status/819347104292290561\n",
      "https://twitter.com/i/web/status/818536468981415936\n",
      "https://twitter.com/i/web/status/817777686764523521\n",
      "https://twitter.com/i/web/status/817536400337801217\n",
      "https://twitter.com/i/web/status/817415592588222464\n",
      "https://twitter.com/i/web/status/815990720817401858\n",
      "https://twitter.com/i/web/status/815990720817401858\n",
      "https://twitter.com/i/web/status/791406955684368384\n",
      "https://twitter.com/i/web/status/813812741911748608\n",
      "https://twitter.com/i/web/status/812503143955202048\n",
      "https://twitter.com/i/web/status/810984652412424192\n",
      "https://twitter.com/i/web/status/810896069567610880\n",
      "https://twitter.com/i/web/status/810254108431155201\n",
      "https://twitter.com/i/web/status/809220051211603969\n",
      "https://twitter.com/i/web/status/809084759137812480\n",
      "https://twitter.com/i/web/status/808106460588765185\n",
      "https://twitter.com/i/web/status/807621403335917568\n",
      "https://twitter.com/i/web/status/807010152071229440\n",
      "https://twitter.com/i/web/status/806219024703037440\n",
      "https://twitter.com/i/web/status/805932879469572096\n",
      "https://twitter.com/i/web/status/805520635690676224\n",
      "https://twitter.com/i/web/status/805487436403003392\n",
      "https://twitter.com/i/web/status/804417859124273152\n",
      "https://twitter.com/i/web/status/802323869084381190\n",
      "https://twitter.com/i/web/status/802239329049477120\n",
      "https://twitter.com/i/web/status/801115127852503040\n",
      "https://twitter.com/i/web/status/799422933579902976\n",
      "https://twitter.com/i/web/status/798925684722855936\n",
      "https://twitter.com/i/web/status/796387464403357696\n",
      "https://twitter.com/i/web/status/796123679771897856\n",
      "https://twitter.com/i/web/status/794332329137291264\n",
      "https://twitter.com/i/web/status/794205286408003585\n",
      "https://twitter.com/i/web/status/793271401113350145\n",
      "https://twitter.com/i/web/status/793226087023144960\n",
      "https://twitter.com/i/web/status/793165685325201412\n",
      "https://twitter.com/i/web/status/793120401413079041\n",
      "https://twitter.com/i/web/status/792050063153438720\n",
      "https://twitter.com/i/web/status/791406955684368384\n",
      "https://twitter.com/i/web/status/788818328538099712\n",
      "https://twitter.com/i/web/status/786233965241827333\n",
      "https://twitter.com/i/web/status/785639753186217984\n",
      "https://twitter.com/i/web/status/785170936622350336\n",
      "https://twitter.com/i/web/status/783839966405230592\n",
      "https://twitter.com/i/web/status/783695101801398276\n",
      "https://twitter.com/i/web/status/783466772167098368\n",
      "https://twitter.com/i/web/status/781955203444699136\n",
      "https://twitter.com/i/web/status/780858289093574656\n",
      "https://twitter.com/i/web/status/778650543019483137\n",
      "https://twitter.com/i/web/status/778027034220126208\n"
     ]
    }
   ],
   "source": [
    "for i in data:\n",
    "    unique_urls = np.unique(np.array(find_key('expanded_url', i)))\n",
    "    for i in unique_urls:\n",
    "        if 'https://twitter.com/i/web/status/' in i:\n",
    "            print(i)"
   ]
  },
  {
   "cell_type": "code",
   "execution_count": 219,
   "metadata": {},
   "outputs": [
    {
     "data": {
      "text/plain": [
       "{'contributors': None,\n",
       " 'coordinates': None,\n",
       " 'created_at': 'Sat Jul 15 16:51:35 +0000 2017',\n",
       " 'entities': {'hashtags': [],\n",
       "  'symbols': [],\n",
       "  'urls': [],\n",
       "  'user_mentions': [{'id': 2281181600,\n",
       "    'id_str': '2281181600',\n",
       "    'indices': [0, 12],\n",
       "    'name': 'Patrick Nonwhite',\n",
       "    'screen_name': 'NonWhiteHat'},\n",
       "   {'id': 38308544,\n",
       "    'id_str': '38308544',\n",
       "    'indices': [13, 26],\n",
       "    'name': 'Мейхью Мейхем',\n",
       "    'screen_name': 'MayhewMayhem'}]},\n",
       " 'favorite_count': 116,\n",
       " 'favorited': False,\n",
       " 'geo': None,\n",
       " 'id': 886267009285017600,\n",
       " 'id_str': '886267009285017600',\n",
       " 'in_reply_to_screen_name': 'NonWhiteHat',\n",
       " 'in_reply_to_status_id': 886266357075128321,\n",
       " 'in_reply_to_status_id_str': '886266357075128321',\n",
       " 'in_reply_to_user_id': 2281181600,\n",
       " 'in_reply_to_user_id_str': '2281181600',\n",
       " 'is_quote_status': False,\n",
       " 'lang': 'en',\n",
       " 'place': None,\n",
       " 'retweet_count': 4,\n",
       " 'retweeted': False,\n",
       " 'source': '<a href=\"http://twitter.com/download/iphone\" rel=\"nofollow\">Twitter for iPhone</a>',\n",
       " 'text': '@NonWhiteHat @MayhewMayhem omg hello tanner you are a scary good boy 12/10 would pet with extreme caution',\n",
       " 'truncated': False,\n",
       " 'user': {'contributors_enabled': False,\n",
       "  'created_at': 'Sun Nov 15 21:41:29 +0000 2015',\n",
       "  'default_profile': False,\n",
       "  'default_profile_image': False,\n",
       "  'description': 'Your Only Source For Professional Dog Ratings Instagram and Facebook ➪ WeRateDogs partnerships@weratedogs.com ⠀⠀⠀⠀⠀⠀⠀⠀⠀⠀⠀⠀',\n",
       "  'entities': {'description': {'urls': []},\n",
       "   'url': {'urls': [{'display_url': 'weratedogs.com',\n",
       "      'expanded_url': 'http://weratedogs.com',\n",
       "      'indices': [0, 23],\n",
       "      'url': 'https://t.co/N7sNNHAEXS'}]}},\n",
       "  'favourites_count': 143189,\n",
       "  'follow_request_sent': None,\n",
       "  'followers_count': 8335937,\n",
       "  'following': None,\n",
       "  'friends_count': 14,\n",
       "  'geo_enabled': True,\n",
       "  'has_extended_profile': False,\n",
       "  'id': 4196983835,\n",
       "  'id_str': '4196983835',\n",
       "  'is_translation_enabled': False,\n",
       "  'is_translator': False,\n",
       "  'lang': None,\n",
       "  'listed_count': 6466,\n",
       "  'location': '「 DM YOUR DOGS 」',\n",
       "  'name': 'WeRateDogs™',\n",
       "  'notifications': None,\n",
       "  'profile_background_color': '000000',\n",
       "  'profile_background_image_url': 'http://abs.twimg.com/images/themes/theme1/bg.png',\n",
       "  'profile_background_image_url_https': 'https://abs.twimg.com/images/themes/theme1/bg.png',\n",
       "  'profile_background_tile': False,\n",
       "  'profile_banner_url': 'https://pbs.twimg.com/profile_banners/4196983835/1565965307',\n",
       "  'profile_image_url': 'http://pbs.twimg.com/profile_images/1112594177961844736/qQK8NJT-_normal.jpg',\n",
       "  'profile_image_url_https': 'https://pbs.twimg.com/profile_images/1112594177961844736/qQK8NJT-_normal.jpg',\n",
       "  'profile_link_color': 'F5ABB5',\n",
       "  'profile_sidebar_border_color': '000000',\n",
       "  'profile_sidebar_fill_color': '000000',\n",
       "  'profile_text_color': '000000',\n",
       "  'profile_use_background_image': False,\n",
       "  'protected': False,\n",
       "  'screen_name': 'dog_rates',\n",
       "  'statuses_count': 10745,\n",
       "  'time_zone': None,\n",
       "  'translator_type': 'none',\n",
       "  'url': 'https://t.co/N7sNNHAEXS',\n",
       "  'utc_offset': None,\n",
       "  'verified': True}}"
      ]
     },
     "execution_count": 219,
     "metadata": {},
     "output_type": "execute_result"
    }
   ],
   "source": [
    "data[30]"
   ]
  },
  {
   "cell_type": "code",
   "execution_count": 242,
   "metadata": {},
   "outputs": [
    {
     "name": "stderr",
     "output_type": "stream",
     "text": [
      "C:\\Users\\jiami\\Anaconda3\\envs\\Udacity_Project\\lib\\site-packages\\ipykernel_launcher.py:5: FutureWarning: elementwise comparison failed; returning scalar instead, but in the future will perform elementwise comparison\n",
      "  \"\"\"\n"
     ]
    }
   ],
   "source": [
    "#appending json data to a pandas dataframe\n",
    "for i in data:\n",
    "    try:\n",
    "        row = []\n",
    "        row += [ids for ids in find_key('id', i) if ids in np.array(twitter_archive.tweet_id)]\n",
    "        row += find_key('favorite_count', i)\n",
    "        row += find_key('retweet_count', i)\n",
    "        # unique expanded urls that are not weratedogs.com\n",
    "        unique_urls = np.unique(np.array(find_key('expanded_url', i)))\n",
    "        for i in unique_urls:\n",
    "            if 'https://twitter.com/i/web/status/' in i:\n",
    "                row += [i]\n",
    "        if len(row) < 4:\n",
    "            row += ['Non']\n",
    "        df = df.append({'id': row[0], 'favorite_count': row[1], 'retweet_count': row[2], 'expanded_url': row[3]}, ignore_index=True)\n",
    "    except:\n",
    "        row = [int(i.strip(', None\\n')), 'None', 'None', 'None']\n",
    "        df = df.append({'id': row[0], 'favorite_count': row[1], 'retweet_count': row[2], 'expanded_url': row[3]}, ignore_index=True)"
   ]
  },
  {
   "cell_type": "code",
   "execution_count": 13,
   "metadata": {},
   "outputs": [
    {
     "name": "stdout",
     "output_type": "stream",
     "text": [
      "<class 'pandas.core.frame.DataFrame'>\n",
      "RangeIndex: 2356 entries, 0 to 2355\n",
      "Data columns (total 3 columns):\n",
      "id                2356 non-null object\n",
      "favorite_count    2356 non-null object\n",
      "retweet_count     2356 non-null object\n",
      "dtypes: object(3)\n",
      "memory usage: 55.3+ KB\n"
     ]
    }
   ],
   "source": [
    "df.info()"
   ]
  },
  {
   "cell_type": "code",
   "execution_count": 14,
   "metadata": {},
   "outputs": [],
   "source": [
    "#turning pandas dataframe to csv\n",
    "df.to_csv('twitter_api_data.csv', encoding='utf-8', index = False)"
   ]
  }
 ],
 "metadata": {
  "kernelspec": {
   "display_name": "Python 3",
   "language": "python",
   "name": "python3"
  },
  "language_info": {
   "codemirror_mode": {
    "name": "ipython",
    "version": 3
   },
   "file_extension": ".py",
   "mimetype": "text/x-python",
   "name": "python",
   "nbconvert_exporter": "python",
   "pygments_lexer": "ipython3",
   "version": "3.7.3"
  }
 },
 "nbformat": 4,
 "nbformat_minor": 2
}
